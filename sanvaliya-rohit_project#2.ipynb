{
 "cells": [
  {
   "cell_type": "markdown",
   "metadata": {},
   "source": [
    "# Data Viz Project- Part 2"
   ]
  },
  {
   "cell_type": "code",
   "execution_count": 1,
   "metadata": {},
   "outputs": [],
   "source": [
    "import pandas as pd\n",
    "import numpy as np\n",
    "import matplotlib.pyplot as plt\n",
    "import geopandas as gpd\n",
    "import bqplot\n",
    "import ipywidgets\n",
    "from ipywidgets import interact\n",
    "import matplotlib.dates as mdates\n",
    "\n",
    "from matplotlib import dates as mpl_dates\n",
    "from datetime import datetime\n",
    "import warnings\n",
    "import pycountry\n",
    "import plotly.express as px\n",
    "warnings.filterwarnings('ignore')\n",
    "%matplotlib inline"
   ]
  },
  {
   "cell_type": "markdown",
   "metadata": {},
   "source": [
    "### Reading CSV Plots"
   ]
  },
  {
   "cell_type": "code",
   "execution_count": 2,
   "metadata": {},
   "outputs": [
    {
     "data": {
      "text/html": [
       "<div>\n",
       "<style scoped>\n",
       "    .dataframe tbody tr th:only-of-type {\n",
       "        vertical-align: middle;\n",
       "    }\n",
       "\n",
       "    .dataframe tbody tr th {\n",
       "        vertical-align: top;\n",
       "    }\n",
       "\n",
       "    .dataframe thead th {\n",
       "        text-align: right;\n",
       "    }\n",
       "</style>\n",
       "<table border=\"1\" class=\"dataframe\">\n",
       "  <thead>\n",
       "    <tr style=\"text-align: right;\">\n",
       "      <th></th>\n",
       "      <th>date</th>\n",
       "      <th>location</th>\n",
       "      <th>new_cases</th>\n",
       "      <th>new_deaths</th>\n",
       "      <th>total_cases</th>\n",
       "      <th>total_deaths</th>\n",
       "      <th>weekly_cases</th>\n",
       "      <th>weekly_deaths</th>\n",
       "      <th>biweekly_cases</th>\n",
       "      <th>biweekly_deaths</th>\n",
       "    </tr>\n",
       "  </thead>\n",
       "  <tbody>\n",
       "    <tr>\n",
       "      <th>0</th>\n",
       "      <td>2019-12-31</td>\n",
       "      <td>Afghanistan</td>\n",
       "      <td>0.0</td>\n",
       "      <td>0.0</td>\n",
       "      <td>NaN</td>\n",
       "      <td>NaN</td>\n",
       "      <td>NaN</td>\n",
       "      <td>NaN</td>\n",
       "      <td>NaN</td>\n",
       "      <td>NaN</td>\n",
       "    </tr>\n",
       "    <tr>\n",
       "      <th>1</th>\n",
       "      <td>2020-01-01</td>\n",
       "      <td>Afghanistan</td>\n",
       "      <td>0.0</td>\n",
       "      <td>0.0</td>\n",
       "      <td>NaN</td>\n",
       "      <td>NaN</td>\n",
       "      <td>NaN</td>\n",
       "      <td>NaN</td>\n",
       "      <td>NaN</td>\n",
       "      <td>NaN</td>\n",
       "    </tr>\n",
       "    <tr>\n",
       "      <th>2</th>\n",
       "      <td>2020-01-02</td>\n",
       "      <td>Afghanistan</td>\n",
       "      <td>0.0</td>\n",
       "      <td>0.0</td>\n",
       "      <td>NaN</td>\n",
       "      <td>NaN</td>\n",
       "      <td>NaN</td>\n",
       "      <td>NaN</td>\n",
       "      <td>NaN</td>\n",
       "      <td>NaN</td>\n",
       "    </tr>\n",
       "    <tr>\n",
       "      <th>3</th>\n",
       "      <td>2020-01-03</td>\n",
       "      <td>Afghanistan</td>\n",
       "      <td>0.0</td>\n",
       "      <td>0.0</td>\n",
       "      <td>NaN</td>\n",
       "      <td>NaN</td>\n",
       "      <td>NaN</td>\n",
       "      <td>NaN</td>\n",
       "      <td>NaN</td>\n",
       "      <td>NaN</td>\n",
       "    </tr>\n",
       "    <tr>\n",
       "      <th>4</th>\n",
       "      <td>2020-01-04</td>\n",
       "      <td>Afghanistan</td>\n",
       "      <td>0.0</td>\n",
       "      <td>0.0</td>\n",
       "      <td>NaN</td>\n",
       "      <td>NaN</td>\n",
       "      <td>NaN</td>\n",
       "      <td>NaN</td>\n",
       "      <td>NaN</td>\n",
       "      <td>NaN</td>\n",
       "    </tr>\n",
       "    <tr>\n",
       "      <th>...</th>\n",
       "      <td>...</td>\n",
       "      <td>...</td>\n",
       "      <td>...</td>\n",
       "      <td>...</td>\n",
       "      <td>...</td>\n",
       "      <td>...</td>\n",
       "      <td>...</td>\n",
       "      <td>...</td>\n",
       "      <td>...</td>\n",
       "      <td>...</td>\n",
       "    </tr>\n",
       "    <tr>\n",
       "      <th>56353</th>\n",
       "      <td>2020-11-11</td>\n",
       "      <td>Zimbabwe</td>\n",
       "      <td>49.0</td>\n",
       "      <td>1.0</td>\n",
       "      <td>8610.0</td>\n",
       "      <td>255.0</td>\n",
       "      <td>200.0</td>\n",
       "      <td>9.0</td>\n",
       "      <td>295.0</td>\n",
       "      <td>13.0</td>\n",
       "    </tr>\n",
       "    <tr>\n",
       "      <th>56354</th>\n",
       "      <td>2020-11-12</td>\n",
       "      <td>Zimbabwe</td>\n",
       "      <td>57.0</td>\n",
       "      <td>0.0</td>\n",
       "      <td>8667.0</td>\n",
       "      <td>255.0</td>\n",
       "      <td>240.0</td>\n",
       "      <td>7.0</td>\n",
       "      <td>347.0</td>\n",
       "      <td>13.0</td>\n",
       "    </tr>\n",
       "    <tr>\n",
       "      <th>56355</th>\n",
       "      <td>2020-11-13</td>\n",
       "      <td>Zimbabwe</td>\n",
       "      <td>29.0</td>\n",
       "      <td>0.0</td>\n",
       "      <td>8696.0</td>\n",
       "      <td>255.0</td>\n",
       "      <td>252.0</td>\n",
       "      <td>7.0</td>\n",
       "      <td>347.0</td>\n",
       "      <td>13.0</td>\n",
       "    </tr>\n",
       "    <tr>\n",
       "      <th>56356</th>\n",
       "      <td>2020-11-14</td>\n",
       "      <td>Zimbabwe</td>\n",
       "      <td>69.0</td>\n",
       "      <td>2.0</td>\n",
       "      <td>8765.0</td>\n",
       "      <td>257.0</td>\n",
       "      <td>294.0</td>\n",
       "      <td>7.0</td>\n",
       "      <td>403.0</td>\n",
       "      <td>15.0</td>\n",
       "    </tr>\n",
       "    <tr>\n",
       "      <th>56357</th>\n",
       "      <td>2020-11-15</td>\n",
       "      <td>Zimbabwe</td>\n",
       "      <td>21.0</td>\n",
       "      <td>0.0</td>\n",
       "      <td>8786.0</td>\n",
       "      <td>257.0</td>\n",
       "      <td>288.0</td>\n",
       "      <td>6.0</td>\n",
       "      <td>424.0</td>\n",
       "      <td>15.0</td>\n",
       "    </tr>\n",
       "  </tbody>\n",
       "</table>\n",
       "<p>56358 rows × 10 columns</p>\n",
       "</div>"
      ],
      "text/plain": [
       "             date     location  new_cases  new_deaths  total_cases  \\\n",
       "0      2019-12-31  Afghanistan        0.0         0.0          NaN   \n",
       "1      2020-01-01  Afghanistan        0.0         0.0          NaN   \n",
       "2      2020-01-02  Afghanistan        0.0         0.0          NaN   \n",
       "3      2020-01-03  Afghanistan        0.0         0.0          NaN   \n",
       "4      2020-01-04  Afghanistan        0.0         0.0          NaN   \n",
       "...           ...          ...        ...         ...          ...   \n",
       "56353  2020-11-11     Zimbabwe       49.0         1.0       8610.0   \n",
       "56354  2020-11-12     Zimbabwe       57.0         0.0       8667.0   \n",
       "56355  2020-11-13     Zimbabwe       29.0         0.0       8696.0   \n",
       "56356  2020-11-14     Zimbabwe       69.0         2.0       8765.0   \n",
       "56357  2020-11-15     Zimbabwe       21.0         0.0       8786.0   \n",
       "\n",
       "       total_deaths  weekly_cases  weekly_deaths  biweekly_cases  \\\n",
       "0               NaN           NaN            NaN             NaN   \n",
       "1               NaN           NaN            NaN             NaN   \n",
       "2               NaN           NaN            NaN             NaN   \n",
       "3               NaN           NaN            NaN             NaN   \n",
       "4               NaN           NaN            NaN             NaN   \n",
       "...             ...           ...            ...             ...   \n",
       "56353         255.0         200.0            9.0           295.0   \n",
       "56354         255.0         240.0            7.0           347.0   \n",
       "56355         255.0         252.0            7.0           347.0   \n",
       "56356         257.0         294.0            7.0           403.0   \n",
       "56357         257.0         288.0            6.0           424.0   \n",
       "\n",
       "       biweekly_deaths  \n",
       "0                  NaN  \n",
       "1                  NaN  \n",
       "2                  NaN  \n",
       "3                  NaN  \n",
       "4                  NaN  \n",
       "...                ...  \n",
       "56353             13.0  \n",
       "56354             13.0  \n",
       "56355             13.0  \n",
       "56356             15.0  \n",
       "56357             15.0  \n",
       "\n",
       "[56358 rows x 10 columns]"
      ]
     },
     "execution_count": 2,
     "metadata": {},
     "output_type": "execute_result"
    }
   ],
   "source": [
    "csv_df = pd.read_csv(\"C:/Users/rohit/OneDrive/Desktop/Subjects/Fall2020/DataViz/Project/full_data.csv\")\n",
    "csv_df"
   ]
  },
  {
   "cell_type": "markdown",
   "metadata": {},
   "source": [
    "### Preprocessing data"
   ]
  },
  {
   "cell_type": "code",
   "execution_count": 3,
   "metadata": {},
   "outputs": [],
   "source": [
    "death_values= pd.DataFrame(csv_df['total_deaths'].groupby(csv_df['location']).agg('sum')).sort_values(by='total_deaths', ascending=False).reset_index()\n",
    "death_values.drop(death_values.loc[death_values['location'] == 'World'].index, inplace=True)\n",
    "cases_values=pd.DataFrame(csv_df['total_cases'].groupby(csv_df['location']).agg('sum')).sort_values(by='total_cases', ascending=False).reset_index()\n",
    "cases_values.drop(cases_values.loc[cases_values['location'] == 'World'].index, inplace=True)"
   ]
  },
  {
   "cell_type": "markdown",
   "metadata": {},
   "source": [
    "### Individual Plot: Total Deaths and Total Case in whole world"
   ]
  },
  {
   "cell_type": "code",
   "execution_count": 4,
   "metadata": {
    "scrolled": true
   },
   "outputs": [
    {
     "data": {
      "text/plain": [
       "<BarContainer object of 2 artists>"
      ]
     },
     "execution_count": 4,
     "metadata": {},
     "output_type": "execute_result"
    },
    {
     "data": {
      "image/png": "[encoded data removed]",
      "text/plain": [
       "<Figure size 432x288 with 1 Axes>"
      ]
     },
     "metadata": {
      "needs_background": "light"
     },
     "output_type": "display_data"
    }
   ],
   "source": [
    "plt.barh(['Total_Cases', 'Total_Deaths'], [csv_df['new_cases'].agg('sum'), csv_df['new_deaths'].agg('sum')] )"
   ]
  },
  {
   "cell_type": "markdown",
   "metadata": {},
   "source": [
    "### Individual Plot:  Top Countries in terms of COVID-19 Cases"
   ]
  },
  {
   "cell_type": "code",
   "execution_count": 5,
   "metadata": {},
   "outputs": [
    {
     "data": {
      "text/plain": [
       "<BarContainer object of 20 artists>"
      ]
     },
     "execution_count": 5,
     "metadata": {},
     "output_type": "execute_result"
    },
    {
     "data": {
      "image/png": "[encoded data removed]",
      "text/plain": [
       "<Figure size 432x432 with 1 Axes>"
      ]
     },
     "metadata": {
      "needs_background": "light"
     },
     "output_type": "display_data"
    }
   ],
   "source": [
    "# Plot Top 10 country by Case count\n",
    "fig, ax1 = plt.subplots(figsize=(6,6))\n",
    "plt.xticks(rotation=90)\n",
    "ax1.set_xlabel(\"Countries\")\n",
    "ax1.set_ylabel(\"Number of COVID Cases (in 10^9)\")\n",
    "ax1.set_title(\"Top Countries in terms of COVID-19 cases\")\n",
    "ax1.bar(cases_values['location'].head(20), cases_values['total_cases'].head(20))"
   ]
  },
  {
   "cell_type": "markdown",
   "metadata": {},
   "source": [
    "### Individual Plot: Top Countries in terms of COVID-19 Deaths"
   ]
  },
  {
   "cell_type": "code",
   "execution_count": 6,
   "metadata": {},
   "outputs": [
    {
     "data": {
      "image/png": "[encoded data removed]",
      "text/plain": [
       "<Figure size 432x432 with 1 Axes>"
      ]
     },
     "execution_count": 6,
     "metadata": {},
     "output_type": "execute_result"
    },
    {
     "data": {
      "image/png": "[encoded data removed]",
      "text/plain": [
       "<Figure size 432x432 with 1 Axes>"
      ]
     },
     "metadata": {
      "needs_background": "light"
     },
     "output_type": "display_data"
    }
   ],
   "source": [
    "# Plot Top 10 country by Death count\n",
    "fig, ax2 = plt.subplots(figsize=(6,6))\n",
    "plt.xticks(rotation=90)\n",
    "ax2.set_xlabel(\"Countries\")\n",
    "ax2.set_ylabel(\"Number of deaths due to COVID-19 (in 10^9)\")\n",
    "ax2.set_title(\"Top Countries in terms of COVID-19 deaths\")\n",
    "ax2.bar(death_values['location'].head(20), death_values['total_deaths'].head(20))\n",
    "fig"
   ]
  },
  {
   "cell_type": "markdown",
   "metadata": {},
   "source": [
    "### Individual Plot: COVID-19 propogation (Death/Cases) for selected country"
   ]
  },
  {
   "cell_type": "code",
   "execution_count": 7,
   "metadata": {
    "scrolled": false
   },
   "outputs": [
    {
     "data": {
      "application/vnd.jupyter.widget-view+json": {
       "model_id": "89bc18c688bf4745a5df8777857089ed",
       "version_major": 2,
       "version_minor": 0
      },
      "text/plain": [
       "interactive(children=(Dropdown(description='country', options=('Afghanistan', 'Albania', 'Algeria', 'Andorra',…"
      ]
     },
     "metadata": {},
     "output_type": "display_data"
    }
   ],
   "source": [
    "# Countries vs total_cases timeline\n",
    "@ipywidgets.interact(country=csv_df['location'].unique())\n",
    "    \n",
    "def plot_fuc(country, yAxis= list(['total_cases', 'total_deaths'])):\n",
    "    fig, ax3 = plt.subplots(figsize=(10,10))\n",
    "    xAxis = csv_df['date'].loc[csv_df['location'] == country]\n",
    "    xAxis=pd.to_datetime(xAxis)\n",
    "\n",
    "    ax3.plot(xAxis, csv_df[yAxis].loc[csv_df['location'] == country].fillna(0))\n",
    "    ax3.set_xlabel('Date of record')\n",
    "    ax3.set_ylabel('Count')\n",
    "    ax3.set_title('COVID-19 propogation (Death/Cases)')\n",
    "#     plt.xticks()\n",
    "    ax3.autoscale(enable=True, axis='x', tight=False)\n",
    "    plt.show()"
   ]
  },
  {
   "cell_type": "markdown",
   "metadata": {},
   "source": [
    "### Individual Plot: COVID-19 propogation new Death/Cases for selected country"
   ]
  },
  {
   "cell_type": "code",
   "execution_count": 8,
   "metadata": {},
   "outputs": [
    {
     "data": {
      "application/vnd.jupyter.widget-view+json": {
       "model_id": "9b1b6557236e4b20adf58fc448465963",
       "version_major": 2,
       "version_minor": 0
      },
      "text/plain": [
       "interactive(children=(Dropdown(description='country', options=('Afghanistan', 'Albania', 'Algeria', 'Andorra',…"
      ]
     },
     "metadata": {},
     "output_type": "display_data"
    }
   ],
   "source": [
    "# Countries vs total_cases timeline\n",
    "@ipywidgets.interact(country=csv_df['location'].unique())\n",
    "    \n",
    "def plot_fuc(country, yAxis= list(['new_cases', 'new_deaths'])):\n",
    "    fig, ax4 = plt.subplots(figsize=(15,10))\n",
    "    \n",
    "    \n",
    "    xAxis = csv_df['date'].loc[csv_df['location'] == country]\n",
    "    xAxis=pd.to_datetime(xAxis)\n",
    "    #ax4\n",
    "    ax4.plot(xAxis, csv_df[yAxis].loc[csv_df['location'] == country].fillna(0))\n",
    "    axis =list(xAxis)\n",
    "    ax4.set_xlabel('Date of record')\n",
    "    ax4.set_ylabel('Count')\n",
    "    ax4.set_title('COVID-19 propogation new Death/Cases')\n",
    "    plt.xticks(rotation=90)\n",
    "    ax4.autoscale(enable=True, axis='x', tight=True)\n",
    "\n",
    "    plt.show()"
   ]
  },
  {
   "cell_type": "markdown",
   "metadata": {},
   "source": [
    "### Creating Dash board with Grid of 4 rows and 3 columns "
   ]
  },
  {
   "cell_type": "code",
   "execution_count": 9,
   "metadata": {
    "scrolled": false
   },
   "outputs": [
    {
     "data": {
      "application/vnd.jupyter.widget-view+json": {
       "model_id": "4ae0c01d1f444237906155c4a9073337",
       "version_major": 2,
       "version_minor": 0
      },
      "text/plain": [
       "interactive(children=(Dropdown(description='country', options=('Afghanistan', 'Albania', 'Algeria', 'Andorra',…"
      ]
     },
     "metadata": {},
     "output_type": "display_data"
    }
   ],
   "source": [
    "import matplotlib.gridspec as gridspec\n",
    "@ipywidgets.interact(country=csv_df['location'].unique())\n",
    "    \n",
    "def dashboard_function(country, Daily= list(['new_cases', 'new_deaths']), Total= list(['total_cases', 'total_deaths'])):\n",
    "    \n",
    "    fig = plt.figure(constrained_layout=True, figsize=(10,10))\n",
    "    specs = gridspec.GridSpec(ncols=2, nrows=4, figure=fig, wspace=0.2 )\n",
    "    xAxis = csv_df['date'].loc[csv_df['location'] == country]\n",
    "    xAxis=pd.to_datetime(xAxis) # converting dates to DataTime\n",
    "    \n",
    "    fig.suptitle(' COVID-19 Till November ', fontsize=20)\n",
    "    ax1 = fig.add_subplot(specs[1, 0]) \n",
    "    plt.xticks(rotation=90)\n",
    "\n",
    "    ax2 = fig.add_subplot(specs[1, 1]) \n",
    "    plt.xticks(rotation=90)\n",
    "    \n",
    "    ax3 = fig.add_subplot(specs[3, 0])\n",
    "    plt.xticks(rotation=90)\n",
    "    \n",
    "    ax4 = fig.add_subplot(specs[3, 1]) \n",
    "    plt.xticks(rotation=90)\n",
    "    \n",
    "    ax5 = fig.add_subplot(specs[0, :]) \n",
    "    ax6 = fig.add_subplot(specs[2, :]) \n",
    "    #ax1\n",
    "    # Plot Top 10 country by Case count\n",
    "    plt.xticks(rotation=90)\n",
    "    ax1.set_xlabel(\"Countries\")\n",
    "    ax1.set_ylabel(\"Number of COVID Cases\")\n",
    "    ax1.set_title(\"Top Countries in terms of COVID-19 cases\",loc='right')\n",
    "    ax1.bar(cases_values['location'].head(20), cases_values['total_cases'].head(20))\n",
    "\n",
    "    #ax2\n",
    "    ax2.set_xlabel(\"Countries\")\n",
    "    ax2.set_ylabel(\"Number of deaths due to COVID-19\")\n",
    "    ax2.set_title(\"Top Countries in terms of COVID-19 deaths\",loc='right')\n",
    "    ax2.bar(death_values['location'].head(20), death_values['total_deaths'].head(20))\n",
    "\n",
    "    #ax3\n",
    "    ax3.plot(xAxis, csv_df[Daily].loc[csv_df['location'] == country].fillna(0))\n",
    "    ax3.set_xlabel('Date of record')\n",
    "    ax3.set_ylabel('Count')\n",
    "    ax3.set_title('Daily New COVID-19 Deaths and Cases')\n",
    "    \n",
    "    #ax4\n",
    "    ax4.plot(xAxis, csv_df[Total].loc[csv_df['location'] == country].fillna(0))\n",
    "    ax4.set_xlabel('Date of record')\n",
    "    ax4.set_ylabel('Count')\n",
    "    ax4.set_title('Total Count of COVID-19 Deaths/Cases')\n",
    "    \n",
    "    #ax5\n",
    "    ax5.barh(['Total_Cases', 'Total_Deaths'], [csv_df['new_cases'].agg('sum'), csv_df['new_deaths'].agg('sum')] )    \n",
    "    ax5.set_xlabel('Count')\n",
    "    ax5.set_title('Total Cases and Deaths Due to Covid')\n",
    "    \n",
    "    #ax6\n",
    "    ax6.barh(['Total_Cases', 'Total_Deaths'], [csv_df['new_cases'].loc[csv_df['location']== country].agg('sum'), csv_df['new_deaths'].loc[csv_df['location']== country].agg('sum')] )    \n",
    "    ax6.set_xlabel('Count')\n",
    "    ax6.set_title('Total Cases and Deaths Due to Covid in selected country')\n",
    "    plt.close(fig)\n",
    "    \n",
    "    return fig"
   ]
  },
  {
   "cell_type": "markdown",
   "metadata": {},
   "source": [
    "#### The above dashboard shows the data about the COVID-19 pandemic:\n",
    "Plot1 (\"Total Cases and Deaths Due to Covid\"): This plot displays the overall count of the deaths and cases recorded across the world.(static plot)\n",
    "\n",
    "Plot2 (\"Top Countries in terms of COVID-19 cases\"): This plot displays the total COVID Case count reported in decending order here we have selected top 20 countries.(static plot)\n",
    "\n",
    "Plot3(\"Top Countries in terms of COVID-19 deaths\"): This plot displays the total COVID Death count reported in decending order \n",
    "here we have selected top 20 countries.(static plot)\n",
    "\n",
    "Plot4(\"Total Cases and Deaths Due to Covid in selected country\"): This plot displays the total count COVID-19 Death and Cases, for the selected country(on selection). From this plot we can infer the ratio of people infected to deaths(reset cured) for the specific country.(interactive plot)\n",
    " \n",
    "Plot5 (\"Daily New COVID-19 Deaths and Cases\"): This plot can display time series graph of daily new cases or new deaths reported on a particular day for a selected country. From this plot we can infer the condition of the country at a particular instance in time, when clubing this with information about country's action plan we can find what actions taken by country helped in containing the disease.(interactive plot)\n",
    "\n",
    "Plot6 (\"Total Count of COVID-19 Deaths/Cases\"): This plot can display time series graph of cumulative total cases or new deaths reported till a particular day for a selected country. From this plot we can infer the condition of the country at a particular instance in time, This graph shows the level of severity of the pandemic in the country and the slop of the graph refers to the rate at which new cases/Deaths are increasing abd vice-versa. \n"
   ]
  },
  {
   "cell_type": "markdown",
   "metadata": {},
   "source": [
    "#### Droping Unnessary columns  "
   ]
  },
  {
   "cell_type": "code",
   "execution_count": 15,
   "metadata": {},
   "outputs": [
    {
     "data": {
      "text/html": [
       "<div>\n",
       "<style scoped>\n",
       "    .dataframe tbody tr th:only-of-type {\n",
       "        vertical-align: middle;\n",
       "    }\n",
       "\n",
       "    .dataframe tbody tr th {\n",
       "        vertical-align: top;\n",
       "    }\n",
       "\n",
       "    .dataframe thead th {\n",
       "        text-align: right;\n",
       "    }\n",
       "</style>\n",
       "<table border=\"1\" class=\"dataframe\">\n",
       "  <thead>\n",
       "    <tr style=\"text-align: right;\">\n",
       "      <th></th>\n",
       "      <th>location</th>\n",
       "      <th>total_cases</th>\n",
       "      <th>iso_alpha</th>\n",
       "      <th>total deaths</th>\n",
       "    </tr>\n",
       "  </thead>\n",
       "  <tbody>\n",
       "    <tr>\n",
       "      <th>1</th>\n",
       "      <td>United States</td>\n",
       "      <td>997934445.0</td>\n",
       "      <td>USA</td>\n",
       "      <td>32733963.0</td>\n",
       "    </tr>\n",
       "    <tr>\n",
       "      <th>2</th>\n",
       "      <td>India</td>\n",
       "      <td>629803124.0</td>\n",
       "      <td>IND</td>\n",
       "      <td>18657395.0</td>\n",
       "    </tr>\n",
       "    <tr>\n",
       "      <th>3</th>\n",
       "      <td>Brazil</td>\n",
       "      <td>575228794.0</td>\n",
       "      <td>BRA</td>\n",
       "      <td>10559896.0</td>\n",
       "    </tr>\n",
       "    <tr>\n",
       "      <th>4</th>\n",
       "      <td>Russia</td>\n",
       "      <td>177306992.0</td>\n",
       "      <td>RUS</td>\n",
       "      <td>9781660.0</td>\n",
       "    </tr>\n",
       "    <tr>\n",
       "      <th>5</th>\n",
       "      <td>Spain</td>\n",
       "      <td>106548322.0</td>\n",
       "      <td>ESP</td>\n",
       "      <td>8521220.0</td>\n",
       "    </tr>\n",
       "    <tr>\n",
       "      <th>...</th>\n",
       "      <td>...</td>\n",
       "      <td>...</td>\n",
       "      <td>...</td>\n",
       "      <td>...</td>\n",
       "    </tr>\n",
       "    <tr>\n",
       "      <th>210</th>\n",
       "      <td>Anguilla</td>\n",
       "      <td>695.0</td>\n",
       "      <td>AIA</td>\n",
       "      <td>0.0</td>\n",
       "    </tr>\n",
       "    <tr>\n",
       "      <th>211</th>\n",
       "      <td>Solomon Islands</td>\n",
       "      <td>265.0</td>\n",
       "      <td>SLB</td>\n",
       "      <td>0.0</td>\n",
       "    </tr>\n",
       "    <tr>\n",
       "      <th>212</th>\n",
       "      <td>Wallis and Futuna</td>\n",
       "      <td>30.0</td>\n",
       "      <td>WLF</td>\n",
       "      <td>0.0</td>\n",
       "    </tr>\n",
       "    <tr>\n",
       "      <th>213</th>\n",
       "      <td>Marshall Islands</td>\n",
       "      <td>18.0</td>\n",
       "      <td>MHL</td>\n",
       "      <td>0.0</td>\n",
       "    </tr>\n",
       "    <tr>\n",
       "      <th>214</th>\n",
       "      <td>Vanuatu</td>\n",
       "      <td>5.0</td>\n",
       "      <td>VUT</td>\n",
       "      <td>0.0</td>\n",
       "    </tr>\n",
       "  </tbody>\n",
       "</table>\n",
       "<p>213 rows × 4 columns</p>\n",
       "</div>"
      ],
      "text/plain": [
       "              location  total_cases iso_alpha  total deaths\n",
       "1        United States  997934445.0       USA    32733963.0\n",
       "2                India  629803124.0       IND    18657395.0\n",
       "3               Brazil  575228794.0       BRA    10559896.0\n",
       "4               Russia  177306992.0       RUS     9781660.0\n",
       "5                Spain  106548322.0       ESP     8521220.0\n",
       "..                 ...          ...       ...           ...\n",
       "210           Anguilla        695.0       AIA           0.0\n",
       "211    Solomon Islands        265.0       SLB           0.0\n",
       "212  Wallis and Futuna         30.0       WLF           0.0\n",
       "213   Marshall Islands         18.0       MHL           0.0\n",
       "214            Vanuatu          5.0       VUT           0.0\n",
       "\n",
       "[213 rows x 4 columns]"
      ]
     },
     "execution_count": 15,
     "metadata": {},
     "output_type": "execute_result"
    }
   ],
   "source": [
    "cases_values.drop(cases_values.loc[cases_values['location'] == 'World'].index, inplace=True)\n",
    "cases_values.drop(cases_values.loc[cases_values['location'] == 'International'].index, inplace=True)\n",
    "cases_values['total deaths']= death_values['total_deaths']\n",
    "cases_values"
   ]
  },
  {
   "cell_type": "markdown",
   "metadata": {},
   "source": [
    "### Plotting the total cases per country on World Map in \"hoverover text\" and \"pan view\" as interactivity"
   ]
  },
  {
   "cell_type": "code",
   "execution_count": 25,
   "metadata": {
    "scrolled": false
   },
   "outputs": [
    {
     "data": {
      "application/vnd.plotly.v1+json": {
       "config": {
        "plotlyServerURL": "https://plot.ly"
       },
       "data": [
        {
         "coloraxis": "coloraxis",
         "geo": "geo",
         "hovertemplate": "<b>%{hovertext}</b><br><br>iso_alpha=%{location}<br>total_cases=%{z}<extra></extra>",
         "hovertext": [
          "United States",
          "India",
          "Brazil",
          "Russia",
          "Spain",
          "Mexico",
          "Peru",
          "Colombia",
          "France",
          "United Kingdom",
          "South Africa",
          "Argentina",
          "Italy",
          "Iran",
          "Chile",
          "Germany",
          "Turkey",
          "Saudi Arabia",
          "Pakistan",
          "Bangladesh",
          "Iraq",
          "Philippines",
          "Indonesia",
          "Canada",
          "Ukraine",
          "Belgium",
          "Israel",
          "China",
          "Netherlands",
          "Poland",
          "Qatar",
          "Ecuador",
          "Romania",
          "Kazakhstan",
          "Bolivia",
          "Sweden",
          "Egypt",
          "Czech Republic",
          "Dominican Republic",
          "Kuwait",
          "Panama",
          "Morocco",
          "United Arab Emirates",
          "Belarus",
          "Portugal",
          "Oman",
          "Switzerland",
          "Guatemala",
          "Japan",
          "Nepal",
          "Singapore",
          "Honduras",
          "Bahrain",
          "Austria",
          "Armenia",
          "Nigeria",
          "Costa Rica",
          "Ethiopia",
          "Venezuela",
          "Ireland",
          "Moldova",
          "Algeria",
          "Afghanistan",
          "Uzbekistan",
          "Ghana",
          "Kyrgyzstan",
          "Azerbaijan",
          "Puerto Rico",
          "Serbia",
          "Palestine",
          "Kenya",
          "Lebanon",
          "Denmark",
          "Hungary",
          "South Korea",
          "Paraguay",
          "Australia",
          "Bosnia and Herzegovina",
          "Libya",
          "El Salvador",
          "Bulgaria",
          "Cameroon",
          "Jordan",
          "Croatia",
          "Cote d'Ivoire",
          "Malaysia",
          "Tunisia",
          "Macedonia",
          "Greece",
          "Norway",
          "Slovakia",
          "Myanmar",
          "Sudan",
          "Senegal",
          "Kosovo",
          "Madagascar",
          "Finland",
          "Albania",
          "Georgia",
          "Luxembourg",
          "Democratic Republic of Congo",
          "Zambia",
          "Guinea",
          "Slovenia",
          "Tajikistan",
          "Gabon",
          "Haiti",
          "Montenegro",
          "Maldives",
          "Namibia",
          "Mauritania",
          "Lithuania",
          "Djibouti",
          "Mozambique",
          "Zimbabwe",
          "Uganda",
          "Cuba",
          "Thailand",
          "Sri Lanka",
          "Central African Republic",
          "Cape Verde",
          "Malawi",
          "Equatorial Guinea",
          "Nicaragua",
          "Jamaica",
          "Congo",
          "Swaziland",
          "Somalia",
          "Angola",
          "Estonia",
          "Iceland",
          "Rwanda",
          "Suriname",
          "Mali",
          "Latvia",
          "Syria",
          "Malta",
          "Bahamas",
          "South Sudan",
          "Botswana",
          "Trinidad and Tobago",
          "Guinea-Bissau",
          "Cyprus",
          "Andorra",
          "Aruba",
          "Sierra Leone",
          "Gambia",
          "Uruguay",
          "Benin",
          "French Polynesia",
          "Burkina Faso",
          "New Zealand",
          "Guam",
          "Yemen",
          "Guyana",
          "Togo",
          "Niger",
          "Belize",
          "Liberia",
          "Chad",
          "San Marino",
          "Lesotho",
          "Vietnam",
          "Sao Tome and Principe",
          "United States Virgin Islands",
          "Taiwan",
          "Tanzania",
          "Western Sahara",
          "Jersey",
          "Mauritius",
          "Isle of Man",
          "Sint Maarten (Dutch part)",
          "Faeroe Islands",
          "Comoros",
          "Burundi",
          "Gibraltar",
          "Turks and Caicos Islands",
          "Guernsey",
          "Eritrea",
          "Mongolia",
          "Papua New Guinea",
          "Cambodia",
          "Curacao",
          "Cayman Islands",
          "Liechtenstein",
          "Bermuda",
          "Brunei",
          "Bhutan",
          "Monaco",
          "Barbados",
          "Seychelles",
          "Antigua and Barbuda",
          "Northern Mariana Islands",
          "Saint Vincent and the Grenadines",
          "Bonaire Sint Eustatius and Saba",
          "Saint Lucia",
          "British Virgin Islands",
          "Fiji",
          "Timor",
          "Grenada",
          "New Caledonia",
          "Dominica",
          "Laos",
          "Saint Kitts and Nevis",
          "Greenland",
          "Vatican",
          "Falkland Islands",
          "Montserrat",
          "Anguilla",
          "Solomon Islands",
          "Wallis and Futuna",
          "Marshall Islands",
          "Vanuatu"
         ],
         "locations": [
          "USA",
          "IND",
          "BRA",
          "RUS",
          "ESP",
          "MEX",
          "PER",
          "COL",
          "FRA",
          "GBR",
          "ZAF",
          "ARG",
          "ITA",
          "IRN",
          "CHL",
          "DEU",
          "TUR",
          "SAU",
          "PAK",
          "BGD",
          "IRQ",
          "PHL",
          "IDN",
          "CAN",
          "UKR",
          "BEL",
          "ISR",
          "CHN",
          "NLD",
          "POL",
          "QAT",
          "ECU",
          "ROU",
          "KAZ",
          "BOL",
          "SWE",
          "EGY",
          "CZE",
          "DOM",
          "KWT",
          "PAN",
          "MAR",
          "ARE",
          "BLR",
          "PRT",
          "OMN",
          "CHE",
          "GTM",
          "JPN",
          "NPL",
          "SGP",
          "HND",
          "BHR",
          "AUT",
          "ARM",
          "NGA",
          "CRI",
          "ETH",
          "VEN",
          "IRL",
          "MDA",
          "DZA",
          "AFG",
          "UZB",
          "GHA",
          "KGZ",
          "AZE",
          "PRI",
          "SRB",
          "PSE",
          "KEN",
          "LBN",
          "DNK",
          "HUN",
          " ",
          "PRY",
          "AUS",
          "BIH",
          "LBY",
          "SLV",
          "BGR",
          "CMR",
          "JOR",
          "HRV",
          "CIV",
          "MYS",
          "TUN",
          "MKD",
          "GRC",
          "NOR",
          "SVK",
          "MMR",
          "SDN",
          "SEN",
          "SRB",
          "MDG",
          "FIN",
          "ALB",
          "GEO",
          "LUX",
          " ",
          "ZMB",
          "GIN",
          "SVN",
          "TJK",
          "GAB",
          "HTI",
          "MNE",
          "MDV",
          "NAM",
          "MRT",
          "LTU",
          "DJI",
          "MOZ",
          "ZWE",
          "UGA",
          "CUB",
          "THA",
          "LKA",
          "CAF",
          " ",
          "MWI",
          "GNQ",
          "NIC",
          "JAM",
          "COG",
          " ",
          "SOM",
          "AGO",
          "EST",
          "ISL",
          "RWA",
          "SUR",
          "MLI",
          "LVA",
          "SYR",
          "MLT",
          "BHS",
          "SSD",
          "BWA",
          "TTO",
          "GNB",
          "CYP",
          "AND",
          "ABW",
          "SLE",
          "GMB",
          "URY",
          "BEN",
          "PYF",
          "BFA",
          "NZL",
          "GUM",
          "YEM",
          "GUY",
          "TGO",
          "NGA",
          "BLZ",
          "LBR",
          "TCD",
          "SMR",
          "LSO",
          "VNM",
          "STP",
          " ",
          "TWN",
          "TZA",
          "ESH",
          "JEY",
          "MUS",
          "IMN",
          "SXM",
          " ",
          "COM",
          "BDI",
          "GIB",
          "TCA",
          "GGY",
          "ERI",
          "MNG",
          "PNG",
          "KHM",
          "NLD",
          "CYM",
          "LIE",
          "BMU",
          "BRN",
          "BTN",
          "MCO",
          "BRB",
          "SYC",
          "ATG",
          "MNP",
          "VCT",
          " ",
          "LCA",
          "VGB",
          "FJI",
          "TLS",
          "GRD",
          "NCL",
          "DMA",
          " ",
          "KNA",
          "GRL",
          "VAT",
          "FLK",
          "MSR",
          "AIA",
          "SLB",
          "WLF",
          "MHL",
          "VUT"
         ],
         "name": "",
         "type": "choropleth",
         "z": [
          997934445,
          629803124,
          575228794,
          177306992,
          106548322,
          99432338,
          99302234,
          89697748,
          88730553,
          87409339,
          82641452,
          78680391,
          70501245,
          69374069,
          65076163,
          57525855,
          51647262,
          47974194,
          46837507,
          46329477,
          38121322,
          32745393,
          32724717,
          27410256,
          26666086,
          26141117,
          24706844,
          24098650,
          22471184,
          20059613,
          19934745,
          18936216,
          17567810,
          17291255,
          15684235,
          15589728,
          15335438,
          14291569,
          14084584,
          14043484,
          14002280,
          13967706,
          13851070,
          13287256,
          13275485,
          13176358,
          12059897,
          10561191,
          10434134,
          9956366,
          9757573,
          9162298,
          8757256,
          8098810,
          7978178,
          7809870,
          7608942,
          7479295,
          7327333,
          6887690,
          6708603,
          6492682,
          6250330,
          6231510,
          6207730,
          5902021,
          5784964,
          5395936,
          5379485,
          5037311,
          4791772,
          4456054,
          4318604,
          4077325,
          4056014,
          3978141,
          3757143,
          3597383,
          3488858,
          3488225,
          3471951,
          3069473,
          2941370,
          2700609,
          2690681,
          2670793,
          2639260,
          2622208,
          2608241,
          2550106,
          2381482,
          2078795,
          2039419,
          2008486,
          1918430,
          1903677,
          1899180,
          1657501,
          1653790,
          1641407,
          1578402,
          1576159,
          1522228,
          1467044,
          1415871,
          1274144,
          1268098,
          1213778,
          1160420,
          1030149,
          1007986,
          956697,
          932217,
          857429,
          820944,
          796480,
          768757,
          758042,
          742317,
          724553,
          702591,
          696291,
          694726,
          673617,
          616685,
          616380,
          604322,
          601155,
          592362,
          586951,
          550119,
          528022,
          499187,
          483598,
          426980,
          425102,
          420835,
          417557,
          412315,
          391140,
          378958,
          371595,
          364036,
          351985,
          336776,
          332216,
          328719,
          325771,
          317992,
          308767,
          299156,
          296488,
          290230,
          284693,
          281461,
          233462,
          233250,
          205618,
          198459,
          194484,
          161104,
          160740,
          154812,
          147550,
          135678,
          112339,
          105269,
          103748,
          83045,
          81521,
          74499,
          70669,
          70219,
          67052,
          65538,
          64926,
          63471,
          57134,
          52776,
          52098,
          51937,
          47433,
          46298,
          39737,
          35700,
          34332,
          34133,
          32335,
          32075,
          31375,
          18882,
          16051,
          10338,
          9823,
          9197,
          6943,
          6549,
          5654,
          5500,
          5259,
          5255,
          5131,
          4685,
          3759,
          3134,
          3117,
          2826,
          2734,
          695,
          265,
          30,
          18,
          5
         ]
        }
       ],
       "layout": {
        "coloraxis": {
         "colorbar": {
          "title": {
           "text": "total_cases"
          }
         },
         "colorscale": [
          [
           0,
           "rgb(165,0,38)"
          ],
          [
           0.1,
           "rgb(215,48,39)"
          ],
          [
           0.2,
           "rgb(244,109,67)"
          ],
          [
           0.3,
           "rgb(253,174,97)"
          ],
          [
           0.4,
           "rgb(254,224,139)"
          ],
          [
           0.5,
           "rgb(255,255,191)"
          ],
          [
           0.6,
           "rgb(217,239,139)"
          ],
          [
           0.7,
           "rgb(166,217,106)"
          ],
          [
           0.8,
           "rgb(102,189,99)"
          ],
          [
           0.9,
           "rgb(26,152,80)"
          ],
          [
           1,
           "rgb(0,104,55)"
          ]
         ]
        },
        "geo": {
         "center": {},
         "domain": {
          "x": [
           0,
           1
          ],
          "y": [
           0,
           1
          ]
         }
        },
        "legend": {
         "tracegroupgap": 0
        },
        "margin": {
         "t": 60
        },
        "template": {
         "data": {
          "bar": [
           {
            "error_x": {
             "color": "#2a3f5f"
            },
            "error_y": {
             "color": "#2a3f5f"
            },
            "marker": {
             "line": {
              "color": "#E5ECF6",
              "width": 0.5
             }
            },
            "type": "bar"
           }
          ],
          "barpolar": [
           {
            "marker": {
             "line": {
              "color": "#E5ECF6",
              "width": 0.5
             }
            },
            "type": "barpolar"
           }
          ],
          "carpet": [
           {
            "aaxis": {
             "endlinecolor": "#2a3f5f",
             "gridcolor": "white",
             "linecolor": "white",
             "minorgridcolor": "white",
             "startlinecolor": "#2a3f5f"
            },
            "baxis": {
             "endlinecolor": "#2a3f5f",
             "gridcolor": "white",
             "linecolor": "white",
             "minorgridcolor": "white",
             "startlinecolor": "#2a3f5f"
            },
            "type": "carpet"
           }
          ],
          "choropleth": [
           {
            "colorbar": {
             "outlinewidth": 0,
             "ticks": ""
            },
            "type": "choropleth"
           }
          ],
          "contour": [
           {
            "colorbar": {
             "outlinewidth": 0,
             "ticks": ""
            },
            "colorscale": [
             [
              0,
              "#0d0887"
             ],
             [
              0.1111111111111111,
              "#46039f"
             ],
             [
              0.2222222222222222,
              "#7201a8"
             ],
             [
              0.3333333333333333,
              "#9c179e"
             ],
             [
              0.4444444444444444,
              "#bd3786"
             ],
             [
              0.5555555555555556,
              "#d8576b"
             ],
             [
              0.6666666666666666,
              "#ed7953"
             ],
             [
              0.7777777777777778,
              "#fb9f3a"
             ],
             [
              0.8888888888888888,
              "#fdca26"
             ],
             [
              1,
              "#f0f921"
             ]
            ],
            "type": "contour"
           }
          ],
          "contourcarpet": [
           {
            "colorbar": {
             "outlinewidth": 0,
             "ticks": ""
            },
            "type": "contourcarpet"
           }
          ],
          "heatmap": [
           {
            "colorbar": {
             "outlinewidth": 0,
             "ticks": ""
            },
            "colorscale": [
             [
              0,
              "#0d0887"
             ],
             [
              0.1111111111111111,
              "#46039f"
             ],
             [
              0.2222222222222222,
              "#7201a8"
             ],
             [
              0.3333333333333333,
              "#9c179e"
             ],
             [
              0.4444444444444444,
              "#bd3786"
             ],
             [
              0.5555555555555556,
              "#d8576b"
             ],
             [
              0.6666666666666666,
              "#ed7953"
             ],
             [
              0.7777777777777778,
              "#fb9f3a"
             ],
             [
              0.8888888888888888,
              "#fdca26"
             ],
             [
              1,
              "#f0f921"
             ]
            ],
            "type": "heatmap"
           }
          ],
          "heatmapgl": [
           {
            "colorbar": {
             "outlinewidth": 0,
             "ticks": ""
            },
            "colorscale": [
             [
              0,
              "#0d0887"
             ],
             [
              0.1111111111111111,
              "#46039f"
             ],
             [
              0.2222222222222222,
              "#7201a8"
             ],
             [
              0.3333333333333333,
              "#9c179e"
             ],
             [
              0.4444444444444444,
              "#bd3786"
             ],
             [
              0.5555555555555556,
              "#d8576b"
             ],
             [
              0.6666666666666666,
              "#ed7953"
             ],
             [
              0.7777777777777778,
              "#fb9f3a"
             ],
             [
              0.8888888888888888,
              "#fdca26"
             ],
             [
              1,
              "#f0f921"
             ]
            ],
            "type": "heatmapgl"
           }
          ],
          "histogram": [
           {
            "marker": {
             "colorbar": {
              "outlinewidth": 0,
              "ticks": ""
             }
            },
            "type": "histogram"
           }
          ],
          "histogram2d": [
           {
            "colorbar": {
             "outlinewidth": 0,
             "ticks": ""
            },
            "colorscale": [
             [
              0,
              "#0d0887"
             ],
             [
              0.1111111111111111,
              "#46039f"
             ],
             [
              0.2222222222222222,
              "#7201a8"
             ],
             [
              0.3333333333333333,
              "#9c179e"
             ],
             [
              0.4444444444444444,
              "#bd3786"
             ],
             [
              0.5555555555555556,
              "#d8576b"
             ],
             [
              0.6666666666666666,
              "#ed7953"
             ],
             [
              0.7777777777777778,
              "#fb9f3a"
             ],
             [
              0.8888888888888888,
              "#fdca26"
             ],
             [
              1,
              "#f0f921"
             ]
            ],
            "type": "histogram2d"
           }
          ],
          "histogram2dcontour": [
           {
            "colorbar": {
             "outlinewidth": 0,
             "ticks": ""
            },
            "colorscale": [
             [
              0,
              "#0d0887"
             ],
             [
              0.1111111111111111,
              "#46039f"
             ],
             [
              0.2222222222222222,
              "#7201a8"
             ],
             [
              0.3333333333333333,
              "#9c179e"
             ],
             [
              0.4444444444444444,
              "#bd3786"
             ],
             [
              0.5555555555555556,
              "#d8576b"
             ],
             [
              0.6666666666666666,
              "#ed7953"
             ],
             [
              0.7777777777777778,
              "#fb9f3a"
             ],
             [
              0.8888888888888888,
              "#fdca26"
             ],
             [
              1,
              "#f0f921"
             ]
            ],
            "type": "histogram2dcontour"
           }
          ],
          "mesh3d": [
           {
            "colorbar": {
             "outlinewidth": 0,
             "ticks": ""
            },
            "type": "mesh3d"
           }
          ],
          "parcoords": [
           {
            "line": {
             "colorbar": {
              "outlinewidth": 0,
              "ticks": ""
             }
            },
            "type": "parcoords"
           }
          ],
          "pie": [
           {
            "automargin": true,
            "type": "pie"
           }
          ],
          "scatter": [
           {
            "marker": {
             "colorbar": {
              "outlinewidth": 0,
              "ticks": ""
             }
            },
            "type": "scatter"
           }
          ],
          "scatter3d": [
           {
            "line": {
             "colorbar": {
              "outlinewidth": 0,
              "ticks": ""
             }
            },
            "marker": {
             "colorbar": {
              "outlinewidth": 0,
              "ticks": ""
             }
            },
            "type": "scatter3d"
           }
          ],
          "scattercarpet": [
           {
            "marker": {
             "colorbar": {
              "outlinewidth": 0,
              "ticks": ""
             }
            },
            "type": "scattercarpet"
           }
          ],
          "scattergeo": [
           {
            "marker": {
             "colorbar": {
              "outlinewidth": 0,
              "ticks": ""
             }
            },
            "type": "scattergeo"
           }
          ],
          "scattergl": [
           {
            "marker": {
             "colorbar": {
              "outlinewidth": 0,
              "ticks": ""
             }
            },
            "type": "scattergl"
           }
          ],
          "scattermapbox": [
           {
            "marker": {
             "colorbar": {
              "outlinewidth": 0,
              "ticks": ""
             }
            },
            "type": "scattermapbox"
           }
          ],
          "scatterpolar": [
           {
            "marker": {
             "colorbar": {
              "outlinewidth": 0,
              "ticks": ""
             }
            },
            "type": "scatterpolar"
           }
          ],
          "scatterpolargl": [
           {
            "marker": {
             "colorbar": {
              "outlinewidth": 0,
              "ticks": ""
             }
            },
            "type": "scatterpolargl"
           }
          ],
          "scatterternary": [
           {
            "marker": {
             "colorbar": {
              "outlinewidth": 0,
              "ticks": ""
             }
            },
            "type": "scatterternary"
           }
          ],
          "surface": [
           {
            "colorbar": {
             "outlinewidth": 0,
             "ticks": ""
            },
            "colorscale": [
             [
              0,
              "#0d0887"
             ],
             [
              0.1111111111111111,
              "#46039f"
             ],
             [
              0.2222222222222222,
              "#7201a8"
             ],
             [
              0.3333333333333333,
              "#9c179e"
             ],
             [
              0.4444444444444444,
              "#bd3786"
             ],
             [
              0.5555555555555556,
              "#d8576b"
             ],
             [
              0.6666666666666666,
              "#ed7953"
             ],
             [
              0.7777777777777778,
              "#fb9f3a"
             ],
             [
              0.8888888888888888,
              "#fdca26"
             ],
             [
              1,
              "#f0f921"
             ]
            ],
            "type": "surface"
           }
          ],
          "table": [
           {
            "cells": {
             "fill": {
              "color": "#EBF0F8"
             },
             "line": {
              "color": "white"
             }
            },
            "header": {
             "fill": {
              "color": "#C8D4E3"
             },
             "line": {
              "color": "white"
             }
            },
            "type": "table"
           }
          ]
         },
         "layout": {
          "annotationdefaults": {
           "arrowcolor": "#2a3f5f",
           "arrowhead": 0,
           "arrowwidth": 1
          },
          "coloraxis": {
           "colorbar": {
            "outlinewidth": 0,
            "ticks": ""
           }
          },
          "colorscale": {
           "diverging": [
            [
             0,
             "#8e0152"
            ],
            [
             0.1,
             "#c51b7d"
            ],
            [
             0.2,
             "#de77ae"
            ],
            [
             0.3,
             "#f1b6da"
            ],
            [
             0.4,
             "#fde0ef"
            ],
            [
             0.5,
             "#f7f7f7"
            ],
            [
             0.6,
             "#e6f5d0"
            ],
            [
             0.7,
             "#b8e186"
            ],
            [
             0.8,
             "#7fbc41"
            ],
            [
             0.9,
             "#4d9221"
            ],
            [
             1,
             "#276419"
            ]
           ],
           "sequential": [
            [
             0,
             "#0d0887"
            ],
            [
             0.1111111111111111,
             "#46039f"
            ],
            [
             0.2222222222222222,
             "#7201a8"
            ],
            [
             0.3333333333333333,
             "#9c179e"
            ],
            [
             0.4444444444444444,
             "#bd3786"
            ],
            [
             0.5555555555555556,
             "#d8576b"
            ],
            [
             0.6666666666666666,
             "#ed7953"
            ],
            [
             0.7777777777777778,
             "#fb9f3a"
            ],
            [
             0.8888888888888888,
             "#fdca26"
            ],
            [
             1,
             "#f0f921"
            ]
           ],
           "sequentialminus": [
            [
             0,
             "#0d0887"
            ],
            [
             0.1111111111111111,
             "#46039f"
            ],
            [
             0.2222222222222222,
             "#7201a8"
            ],
            [
             0.3333333333333333,
             "#9c179e"
            ],
            [
             0.4444444444444444,
             "#bd3786"
            ],
            [
             0.5555555555555556,
             "#d8576b"
            ],
            [
             0.6666666666666666,
             "#ed7953"
            ],
            [
             0.7777777777777778,
             "#fb9f3a"
            ],
            [
             0.8888888888888888,
             "#fdca26"
            ],
            [
             1,
             "#f0f921"
            ]
           ]
          },
          "colorway": [
           "#636efa",
           "#EF553B",
           "#00cc96",
           "#ab63fa",
           "#FFA15A",
           "#19d3f3",
           "#FF6692",
           "#B6E880",
           "#FF97FF",
           "#FECB52"
          ],
          "font": {
           "color": "#2a3f5f"
          },
          "geo": {
           "bgcolor": "white",
           "lakecolor": "white",
           "landcolor": "#E5ECF6",
           "showlakes": true,
           "showland": true,
           "subunitcolor": "white"
          },
          "hoverlabel": {
           "align": "left"
          },
          "hovermode": "closest",
          "mapbox": {
           "style": "light"
          },
          "paper_bgcolor": "white",
          "plot_bgcolor": "#E5ECF6",
          "polar": {
           "angularaxis": {
            "gridcolor": "white",
            "linecolor": "white",
            "ticks": ""
           },
           "bgcolor": "#E5ECF6",
           "radialaxis": {
            "gridcolor": "white",
            "linecolor": "white",
            "ticks": ""
           }
          },
          "scene": {
           "xaxis": {
            "backgroundcolor": "#E5ECF6",
            "gridcolor": "white",
            "gridwidth": 2,
            "linecolor": "white",
            "showbackground": true,
            "ticks": "",
            "zerolinecolor": "white"
           },
           "yaxis": {
            "backgroundcolor": "#E5ECF6",
            "gridcolor": "white",
            "gridwidth": 2,
            "linecolor": "white",
            "showbackground": true,
            "ticks": "",
            "zerolinecolor": "white"
           },
           "zaxis": {
            "backgroundcolor": "#E5ECF6",
            "gridcolor": "white",
            "gridwidth": 2,
            "linecolor": "white",
            "showbackground": true,
            "ticks": "",
            "zerolinecolor": "white"
           }
          },
          "shapedefaults": {
           "line": {
            "color": "#2a3f5f"
           }
          },
          "ternary": {
           "aaxis": {
            "gridcolor": "white",
            "linecolor": "white",
            "ticks": ""
           },
           "baxis": {
            "gridcolor": "white",
            "linecolor": "white",
            "ticks": ""
           },
           "bgcolor": "#E5ECF6",
           "caxis": {
            "gridcolor": "white",
            "linecolor": "white",
            "ticks": ""
           }
          },
          "title": {
           "x": 0.05
          },
          "xaxis": {
           "automargin": true,
           "gridcolor": "white",
           "linecolor": "white",
           "ticks": "",
           "title": {
            "standoff": 15
           },
           "zerolinecolor": "white",
           "zerolinewidth": 2
          },
          "yaxis": {
           "automargin": true,
           "gridcolor": "white",
           "linecolor": "white",
           "ticks": "",
           "title": {
            "standoff": 15
           },
           "zerolinecolor": "white",
           "zerolinewidth": 2
          }
         }
        }
       }
      },
      "text/html": [
       "<div>\n",
       "        \n",
       "        \n",
       "            <div id=\"b8d06f00-c274-4937-8d7b-d10bbac831b8\" class=\"plotly-graph-div\" style=\"height:525px; width:100%;\"></div>\n",
       "            <script type=\"text/javascript\">\n",
       "                require([\"plotly\"], function(Plotly) {\n",
       "                    window.PLOTLYENV=window.PLOTLYENV || {};\n",
       "                    \n",
       "                if (document.getElementById(\"b8d06f00-c274-4937-8d7b-d10bbac831b8\")) {\n",
       "                    Plotly.newPlot(\n",
       "                        'b8d06f00-c274-4937-8d7b-d10bbac831b8',\n",
       "                        [{\"coloraxis\": \"coloraxis\", \"geo\": \"geo\", \"hovertemplate\": \"<b>%{hovertext}</b><br><br>iso_alpha=%{location}<br>total_cases=%{z}<extra></extra>\", \"hovertext\": [\"United States\", \"India\", \"Brazil\", \"Russia\", \"Spain\", \"Mexico\", \"Peru\", \"Colombia\", \"France\", \"United Kingdom\", \"South Africa\", \"Argentina\", \"Italy\", \"Iran\", \"Chile\", \"Germany\", \"Turkey\", \"Saudi Arabia\", \"Pakistan\", \"Bangladesh\", \"Iraq\", \"Philippines\", \"Indonesia\", \"Canada\", \"Ukraine\", \"Belgium\", \"Israel\", \"China\", \"Netherlands\", \"Poland\", \"Qatar\", \"Ecuador\", \"Romania\", \"Kazakhstan\", \"Bolivia\", \"Sweden\", \"Egypt\", \"Czech Republic\", \"Dominican Republic\", \"Kuwait\", \"Panama\", \"Morocco\", \"United Arab Emirates\", \"Belarus\", \"Portugal\", \"Oman\", \"Switzerland\", \"Guatemala\", \"Japan\", \"Nepal\", \"Singapore\", \"Honduras\", \"Bahrain\", \"Austria\", \"Armenia\", \"Nigeria\", \"Costa Rica\", \"Ethiopia\", \"Venezuela\", \"Ireland\", \"Moldova\", \"Algeria\", \"Afghanistan\", \"Uzbekistan\", \"Ghana\", \"Kyrgyzstan\", \"Azerbaijan\", \"Puerto Rico\", \"Serbia\", \"Palestine\", \"Kenya\", \"Lebanon\", \"Denmark\", \"Hungary\", \"South Korea\", \"Paraguay\", \"Australia\", \"Bosnia and Herzegovina\", \"Libya\", \"El Salvador\", \"Bulgaria\", \"Cameroon\", \"Jordan\", \"Croatia\", \"Cote d'Ivoire\", \"Malaysia\", \"Tunisia\", \"Macedonia\", \"Greece\", \"Norway\", \"Slovakia\", \"Myanmar\", \"Sudan\", \"Senegal\", \"Kosovo\", \"Madagascar\", \"Finland\", \"Albania\", \"Georgia\", \"Luxembourg\", \"Democratic Republic of Congo\", \"Zambia\", \"Guinea\", \"Slovenia\", \"Tajikistan\", \"Gabon\", \"Haiti\", \"Montenegro\", \"Maldives\", \"Namibia\", \"Mauritania\", \"Lithuania\", \"Djibouti\", \"Mozambique\", \"Zimbabwe\", \"Uganda\", \"Cuba\", \"Thailand\", \"Sri Lanka\", \"Central African Republic\", \"Cape Verde\", \"Malawi\", \"Equatorial Guinea\", \"Nicaragua\", \"Jamaica\", \"Congo\", \"Swaziland\", \"Somalia\", \"Angola\", \"Estonia\", \"Iceland\", \"Rwanda\", \"Suriname\", \"Mali\", \"Latvia\", \"Syria\", \"Malta\", \"Bahamas\", \"South Sudan\", \"Botswana\", \"Trinidad and Tobago\", \"Guinea-Bissau\", \"Cyprus\", \"Andorra\", \"Aruba\", \"Sierra Leone\", \"Gambia\", \"Uruguay\", \"Benin\", \"French Polynesia\", \"Burkina Faso\", \"New Zealand\", \"Guam\", \"Yemen\", \"Guyana\", \"Togo\", \"Niger\", \"Belize\", \"Liberia\", \"Chad\", \"San Marino\", \"Lesotho\", \"Vietnam\", \"Sao Tome and Principe\", \"United States Virgin Islands\", \"Taiwan\", \"Tanzania\", \"Western Sahara\", \"Jersey\", \"Mauritius\", \"Isle of Man\", \"Sint Maarten (Dutch part)\", \"Faeroe Islands\", \"Comoros\", \"Burundi\", \"Gibraltar\", \"Turks and Caicos Islands\", \"Guernsey\", \"Eritrea\", \"Mongolia\", \"Papua New Guinea\", \"Cambodia\", \"Curacao\", \"Cayman Islands\", \"Liechtenstein\", \"Bermuda\", \"Brunei\", \"Bhutan\", \"Monaco\", \"Barbados\", \"Seychelles\", \"Antigua and Barbuda\", \"Northern Mariana Islands\", \"Saint Vincent and the Grenadines\", \"Bonaire Sint Eustatius and Saba\", \"Saint Lucia\", \"British Virgin Islands\", \"Fiji\", \"Timor\", \"Grenada\", \"New Caledonia\", \"Dominica\", \"Laos\", \"Saint Kitts and Nevis\", \"Greenland\", \"Vatican\", \"Falkland Islands\", \"Montserrat\", \"Anguilla\", \"Solomon Islands\", \"Wallis and Futuna\", \"Marshall Islands\", \"Vanuatu\"], \"locations\": [\"USA\", \"IND\", \"BRA\", \"RUS\", \"ESP\", \"MEX\", \"PER\", \"COL\", \"FRA\", \"GBR\", \"ZAF\", \"ARG\", \"ITA\", \"IRN\", \"CHL\", \"DEU\", \"TUR\", \"SAU\", \"PAK\", \"BGD\", \"IRQ\", \"PHL\", \"IDN\", \"CAN\", \"UKR\", \"BEL\", \"ISR\", \"CHN\", \"NLD\", \"POL\", \"QAT\", \"ECU\", \"ROU\", \"KAZ\", \"BOL\", \"SWE\", \"EGY\", \"CZE\", \"DOM\", \"KWT\", \"PAN\", \"MAR\", \"ARE\", \"BLR\", \"PRT\", \"OMN\", \"CHE\", \"GTM\", \"JPN\", \"NPL\", \"SGP\", \"HND\", \"BHR\", \"AUT\", \"ARM\", \"NGA\", \"CRI\", \"ETH\", \"VEN\", \"IRL\", \"MDA\", \"DZA\", \"AFG\", \"UZB\", \"GHA\", \"KGZ\", \"AZE\", \"PRI\", \"SRB\", \"PSE\", \"KEN\", \"LBN\", \"DNK\", \"HUN\", \" \", \"PRY\", \"AUS\", \"BIH\", \"LBY\", \"SLV\", \"BGR\", \"CMR\", \"JOR\", \"HRV\", \"CIV\", \"MYS\", \"TUN\", \"MKD\", \"GRC\", \"NOR\", \"SVK\", \"MMR\", \"SDN\", \"SEN\", \"SRB\", \"MDG\", \"FIN\", \"ALB\", \"GEO\", \"LUX\", \" \", \"ZMB\", \"GIN\", \"SVN\", \"TJK\", \"GAB\", \"HTI\", \"MNE\", \"MDV\", \"NAM\", \"MRT\", \"LTU\", \"DJI\", \"MOZ\", \"ZWE\", \"UGA\", \"CUB\", \"THA\", \"LKA\", \"CAF\", \" \", \"MWI\", \"GNQ\", \"NIC\", \"JAM\", \"COG\", \" \", \"SOM\", \"AGO\", \"EST\", \"ISL\", \"RWA\", \"SUR\", \"MLI\", \"LVA\", \"SYR\", \"MLT\", \"BHS\", \"SSD\", \"BWA\", \"TTO\", \"GNB\", \"CYP\", \"AND\", \"ABW\", \"SLE\", \"GMB\", \"URY\", \"BEN\", \"PYF\", \"BFA\", \"NZL\", \"GUM\", \"YEM\", \"GUY\", \"TGO\", \"NGA\", \"BLZ\", \"LBR\", \"TCD\", \"SMR\", \"LSO\", \"VNM\", \"STP\", \" \", \"TWN\", \"TZA\", \"ESH\", \"JEY\", \"MUS\", \"IMN\", \"SXM\", \" \", \"COM\", \"BDI\", \"GIB\", \"TCA\", \"GGY\", \"ERI\", \"MNG\", \"PNG\", \"KHM\", \"NLD\", \"CYM\", \"LIE\", \"BMU\", \"BRN\", \"BTN\", \"MCO\", \"BRB\", \"SYC\", \"ATG\", \"MNP\", \"VCT\", \" \", \"LCA\", \"VGB\", \"FJI\", \"TLS\", \"GRD\", \"NCL\", \"DMA\", \" \", \"KNA\", \"GRL\", \"VAT\", \"FLK\", \"MSR\", \"AIA\", \"SLB\", \"WLF\", \"MHL\", \"VUT\"], \"name\": \"\", \"type\": \"choropleth\", \"z\": [997934445.0, 629803124.0, 575228794.0, 177306992.0, 106548322.0, 99432338.0, 99302234.0, 89697748.0, 88730553.0, 87409339.0, 82641452.0, 78680391.0, 70501245.0, 69374069.0, 65076163.0, 57525855.0, 51647262.0, 47974194.0, 46837507.0, 46329477.0, 38121322.0, 32745393.0, 32724717.0, 27410256.0, 26666086.0, 26141117.0, 24706844.0, 24098650.0, 22471184.0, 20059613.0, 19934745.0, 18936216.0, 17567810.0, 17291255.0, 15684235.0, 15589728.0, 15335438.0, 14291569.0, 14084584.0, 14043484.0, 14002280.0, 13967706.0, 13851070.0, 13287256.0, 13275485.0, 13176358.0, 12059897.0, 10561191.0, 10434134.0, 9956366.0, 9757573.0, 9162298.0, 8757256.0, 8098810.0, 7978178.0, 7809870.0, 7608942.0, 7479295.0, 7327333.0, 6887690.0, 6708603.0, 6492682.0, 6250330.0, 6231510.0, 6207730.0, 5902021.0, 5784964.0, 5395936.0, 5379485.0, 5037311.0, 4791772.0, 4456054.0, 4318604.0, 4077325.0, 4056014.0, 3978141.0, 3757143.0, 3597383.0, 3488858.0, 3488225.0, 3471951.0, 3069473.0, 2941370.0, 2700609.0, 2690681.0, 2670793.0, 2639260.0, 2622208.0, 2608241.0, 2550106.0, 2381482.0, 2078795.0, 2039419.0, 2008486.0, 1918430.0, 1903677.0, 1899180.0, 1657501.0, 1653790.0, 1641407.0, 1578402.0, 1576159.0, 1522228.0, 1467044.0, 1415871.0, 1274144.0, 1268098.0, 1213778.0, 1160420.0, 1030149.0, 1007986.0, 956697.0, 932217.0, 857429.0, 820944.0, 796480.0, 768757.0, 758042.0, 742317.0, 724553.0, 702591.0, 696291.0, 694726.0, 673617.0, 616685.0, 616380.0, 604322.0, 601155.0, 592362.0, 586951.0, 550119.0, 528022.0, 499187.0, 483598.0, 426980.0, 425102.0, 420835.0, 417557.0, 412315.0, 391140.0, 378958.0, 371595.0, 364036.0, 351985.0, 336776.0, 332216.0, 328719.0, 325771.0, 317992.0, 308767.0, 299156.0, 296488.0, 290230.0, 284693.0, 281461.0, 233462.0, 233250.0, 205618.0, 198459.0, 194484.0, 161104.0, 160740.0, 154812.0, 147550.0, 135678.0, 112339.0, 105269.0, 103748.0, 83045.0, 81521.0, 74499.0, 70669.0, 70219.0, 67052.0, 65538.0, 64926.0, 63471.0, 57134.0, 52776.0, 52098.0, 51937.0, 47433.0, 46298.0, 39737.0, 35700.0, 34332.0, 34133.0, 32335.0, 32075.0, 31375.0, 18882.0, 16051.0, 10338.0, 9823.0, 9197.0, 6943.0, 6549.0, 5654.0, 5500.0, 5259.0, 5255.0, 5131.0, 4685.0, 3759.0, 3134.0, 3117.0, 2826.0, 2734.0, 695.0, 265.0, 30.0, 18.0, 5.0]}],\n",
       "                        {\"coloraxis\": {\"colorbar\": {\"title\": {\"text\": \"total_cases\"}}, \"colorscale\": [[0.0, \"rgb(165,0,38)\"], [0.1, \"rgb(215,48,39)\"], [0.2, \"rgb(244,109,67)\"], [0.3, \"rgb(253,174,97)\"], [0.4, \"rgb(254,224,139)\"], [0.5, \"rgb(255,255,191)\"], [0.6, \"rgb(217,239,139)\"], [0.7, \"rgb(166,217,106)\"], [0.8, \"rgb(102,189,99)\"], [0.9, \"rgb(26,152,80)\"], [1.0, \"rgb(0,104,55)\"]]}, \"geo\": {\"center\": {}, \"domain\": {\"x\": [0.0, 1.0], \"y\": [0.0, 1.0]}}, \"legend\": {\"tracegroupgap\": 0}, \"margin\": {\"t\": 60}, \"template\": {\"data\": {\"bar\": [{\"error_x\": {\"color\": \"#2a3f5f\"}, \"error_y\": {\"color\": \"#2a3f5f\"}, \"marker\": {\"line\": {\"color\": \"#E5ECF6\", \"width\": 0.5}}, \"type\": \"bar\"}], \"barpolar\": [{\"marker\": {\"line\": {\"color\": \"#E5ECF6\", \"width\": 0.5}}, \"type\": \"barpolar\"}], \"carpet\": [{\"aaxis\": {\"endlinecolor\": \"#2a3f5f\", \"gridcolor\": \"white\", \"linecolor\": \"white\", \"minorgridcolor\": \"white\", \"startlinecolor\": \"#2a3f5f\"}, \"baxis\": {\"endlinecolor\": \"#2a3f5f\", \"gridcolor\": \"white\", \"linecolor\": \"white\", \"minorgridcolor\": \"white\", \"startlinecolor\": \"#2a3f5f\"}, \"type\": \"carpet\"}], \"choropleth\": [{\"colorbar\": {\"outlinewidth\": 0, \"ticks\": \"\"}, \"type\": \"choropleth\"}], \"contour\": [{\"colorbar\": {\"outlinewidth\": 0, \"ticks\": \"\"}, \"colorscale\": [[0.0, \"#0d0887\"], [0.1111111111111111, \"#46039f\"], [0.2222222222222222, \"#7201a8\"], [0.3333333333333333, \"#9c179e\"], [0.4444444444444444, \"#bd3786\"], [0.5555555555555556, \"#d8576b\"], [0.6666666666666666, \"#ed7953\"], [0.7777777777777778, \"#fb9f3a\"], [0.8888888888888888, \"#fdca26\"], [1.0, \"#f0f921\"]], \"type\": \"contour\"}], \"contourcarpet\": [{\"colorbar\": {\"outlinewidth\": 0, \"ticks\": \"\"}, \"type\": \"contourcarpet\"}], \"heatmap\": [{\"colorbar\": {\"outlinewidth\": 0, \"ticks\": \"\"}, \"colorscale\": [[0.0, \"#0d0887\"], [0.1111111111111111, \"#46039f\"], [0.2222222222222222, \"#7201a8\"], [0.3333333333333333, \"#9c179e\"], [0.4444444444444444, \"#bd3786\"], [0.5555555555555556, \"#d8576b\"], [0.6666666666666666, \"#ed7953\"], [0.7777777777777778, \"#fb9f3a\"], [0.8888888888888888, \"#fdca26\"], [1.0, \"#f0f921\"]], \"type\": \"heatmap\"}], \"heatmapgl\": [{\"colorbar\": {\"outlinewidth\": 0, \"ticks\": \"\"}, \"colorscale\": [[0.0, \"#0d0887\"], [0.1111111111111111, \"#46039f\"], [0.2222222222222222, \"#7201a8\"], [0.3333333333333333, \"#9c179e\"], [0.4444444444444444, \"#bd3786\"], [0.5555555555555556, \"#d8576b\"], [0.6666666666666666, \"#ed7953\"], [0.7777777777777778, \"#fb9f3a\"], [0.8888888888888888, \"#fdca26\"], [1.0, \"#f0f921\"]], \"type\": \"heatmapgl\"}], \"histogram\": [{\"marker\": {\"colorbar\": {\"outlinewidth\": 0, \"ticks\": \"\"}}, \"type\": \"histogram\"}], \"histogram2d\": [{\"colorbar\": {\"outlinewidth\": 0, \"ticks\": \"\"}, \"colorscale\": [[0.0, \"#0d0887\"], [0.1111111111111111, \"#46039f\"], [0.2222222222222222, \"#7201a8\"], [0.3333333333333333, \"#9c179e\"], [0.4444444444444444, \"#bd3786\"], [0.5555555555555556, \"#d8576b\"], [0.6666666666666666, \"#ed7953\"], [0.7777777777777778, \"#fb9f3a\"], [0.8888888888888888, \"#fdca26\"], [1.0, \"#f0f921\"]], \"type\": \"histogram2d\"}], \"histogram2dcontour\": [{\"colorbar\": {\"outlinewidth\": 0, \"ticks\": \"\"}, \"colorscale\": [[0.0, \"#0d0887\"], [0.1111111111111111, \"#46039f\"], [0.2222222222222222, \"#7201a8\"], [0.3333333333333333, \"#9c179e\"], [0.4444444444444444, \"#bd3786\"], [0.5555555555555556, \"#d8576b\"], [0.6666666666666666, \"#ed7953\"], [0.7777777777777778, \"#fb9f3a\"], [0.8888888888888888, \"#fdca26\"], [1.0, \"#f0f921\"]], \"type\": \"histogram2dcontour\"}], \"mesh3d\": [{\"colorbar\": {\"outlinewidth\": 0, \"ticks\": \"\"}, \"type\": \"mesh3d\"}], \"parcoords\": [{\"line\": {\"colorbar\": {\"outlinewidth\": 0, \"ticks\": \"\"}}, \"type\": \"parcoords\"}], \"pie\": [{\"automargin\": true, \"type\": \"pie\"}], \"scatter\": [{\"marker\": {\"colorbar\": {\"outlinewidth\": 0, \"ticks\": \"\"}}, \"type\": \"scatter\"}], \"scatter3d\": [{\"line\": {\"colorbar\": {\"outlinewidth\": 0, \"ticks\": \"\"}}, \"marker\": {\"colorbar\": {\"outlinewidth\": 0, \"ticks\": \"\"}}, \"type\": \"scatter3d\"}], \"scattercarpet\": [{\"marker\": {\"colorbar\": {\"outlinewidth\": 0, \"ticks\": \"\"}}, \"type\": \"scattercarpet\"}], \"scattergeo\": [{\"marker\": {\"colorbar\": {\"outlinewidth\": 0, \"ticks\": \"\"}}, \"type\": \"scattergeo\"}], \"scattergl\": [{\"marker\": {\"colorbar\": {\"outlinewidth\": 0, \"ticks\": \"\"}}, \"type\": \"scattergl\"}], \"scattermapbox\": [{\"marker\": {\"colorbar\": {\"outlinewidth\": 0, \"ticks\": \"\"}}, \"type\": \"scattermapbox\"}], \"scatterpolar\": [{\"marker\": {\"colorbar\": {\"outlinewidth\": 0, \"ticks\": \"\"}}, \"type\": \"scatterpolar\"}], \"scatterpolargl\": [{\"marker\": {\"colorbar\": {\"outlinewidth\": 0, \"ticks\": \"\"}}, \"type\": \"scatterpolargl\"}], \"scatterternary\": [{\"marker\": {\"colorbar\": {\"outlinewidth\": 0, \"ticks\": \"\"}}, \"type\": \"scatterternary\"}], \"surface\": [{\"colorbar\": {\"outlinewidth\": 0, \"ticks\": \"\"}, \"colorscale\": [[0.0, \"#0d0887\"], [0.1111111111111111, \"#46039f\"], [0.2222222222222222, \"#7201a8\"], [0.3333333333333333, \"#9c179e\"], [0.4444444444444444, \"#bd3786\"], [0.5555555555555556, \"#d8576b\"], [0.6666666666666666, \"#ed7953\"], [0.7777777777777778, \"#fb9f3a\"], [0.8888888888888888, \"#fdca26\"], [1.0, \"#f0f921\"]], \"type\": \"surface\"}], \"table\": [{\"cells\": {\"fill\": {\"color\": \"#EBF0F8\"}, \"line\": {\"color\": \"white\"}}, \"header\": {\"fill\": {\"color\": \"#C8D4E3\"}, \"line\": {\"color\": \"white\"}}, \"type\": \"table\"}]}, \"layout\": {\"annotationdefaults\": {\"arrowcolor\": \"#2a3f5f\", \"arrowhead\": 0, \"arrowwidth\": 1}, \"coloraxis\": {\"colorbar\": {\"outlinewidth\": 0, \"ticks\": \"\"}}, \"colorscale\": {\"diverging\": [[0, \"#8e0152\"], [0.1, \"#c51b7d\"], [0.2, \"#de77ae\"], [0.3, \"#f1b6da\"], [0.4, \"#fde0ef\"], [0.5, \"#f7f7f7\"], [0.6, \"#e6f5d0\"], [0.7, \"#b8e186\"], [0.8, \"#7fbc41\"], [0.9, \"#4d9221\"], [1, \"#276419\"]], \"sequential\": [[0.0, \"#0d0887\"], [0.1111111111111111, \"#46039f\"], [0.2222222222222222, \"#7201a8\"], [0.3333333333333333, \"#9c179e\"], [0.4444444444444444, \"#bd3786\"], [0.5555555555555556, \"#d8576b\"], [0.6666666666666666, \"#ed7953\"], [0.7777777777777778, \"#fb9f3a\"], [0.8888888888888888, \"#fdca26\"], [1.0, \"#f0f921\"]], \"sequentialminus\": [[0.0, \"#0d0887\"], [0.1111111111111111, \"#46039f\"], [0.2222222222222222, \"#7201a8\"], [0.3333333333333333, \"#9c179e\"], [0.4444444444444444, \"#bd3786\"], [0.5555555555555556, \"#d8576b\"], [0.6666666666666666, \"#ed7953\"], [0.7777777777777778, \"#fb9f3a\"], [0.8888888888888888, \"#fdca26\"], [1.0, \"#f0f921\"]]}, \"colorway\": [\"#636efa\", \"#EF553B\", \"#00cc96\", \"#ab63fa\", \"#FFA15A\", \"#19d3f3\", \"#FF6692\", \"#B6E880\", \"#FF97FF\", \"#FECB52\"], \"font\": {\"color\": \"#2a3f5f\"}, \"geo\": {\"bgcolor\": \"white\", \"lakecolor\": \"white\", \"landcolor\": \"#E5ECF6\", \"showlakes\": true, \"showland\": true, \"subunitcolor\": \"white\"}, \"hoverlabel\": {\"align\": \"left\"}, \"hovermode\": \"closest\", \"mapbox\": {\"style\": \"light\"}, \"paper_bgcolor\": \"white\", \"plot_bgcolor\": \"#E5ECF6\", \"polar\": {\"angularaxis\": {\"gridcolor\": \"white\", \"linecolor\": \"white\", \"ticks\": \"\"}, \"bgcolor\": \"#E5ECF6\", \"radialaxis\": {\"gridcolor\": \"white\", \"linecolor\": \"white\", \"ticks\": \"\"}}, \"scene\": {\"xaxis\": {\"backgroundcolor\": \"#E5ECF6\", \"gridcolor\": \"white\", \"gridwidth\": 2, \"linecolor\": \"white\", \"showbackground\": true, \"ticks\": \"\", \"zerolinecolor\": \"white\"}, \"yaxis\": {\"backgroundcolor\": \"#E5ECF6\", \"gridcolor\": \"white\", \"gridwidth\": 2, \"linecolor\": \"white\", \"showbackground\": true, \"ticks\": \"\", \"zerolinecolor\": \"white\"}, \"zaxis\": {\"backgroundcolor\": \"#E5ECF6\", \"gridcolor\": \"white\", \"gridwidth\": 2, \"linecolor\": \"white\", \"showbackground\": true, \"ticks\": \"\", \"zerolinecolor\": \"white\"}}, \"shapedefaults\": {\"line\": {\"color\": \"#2a3f5f\"}}, \"ternary\": {\"aaxis\": {\"gridcolor\": \"white\", \"linecolor\": \"white\", \"ticks\": \"\"}, \"baxis\": {\"gridcolor\": \"white\", \"linecolor\": \"white\", \"ticks\": \"\"}, \"bgcolor\": \"#E5ECF6\", \"caxis\": {\"gridcolor\": \"white\", \"linecolor\": \"white\", \"ticks\": \"\"}}, \"title\": {\"x\": 0.05}, \"xaxis\": {\"automargin\": true, \"gridcolor\": \"white\", \"linecolor\": \"white\", \"ticks\": \"\", \"title\": {\"standoff\": 15}, \"zerolinecolor\": \"white\", \"zerolinewidth\": 2}, \"yaxis\": {\"automargin\": true, \"gridcolor\": \"white\", \"linecolor\": \"white\", \"ticks\": \"\", \"title\": {\"standoff\": 15}, \"zerolinecolor\": \"white\", \"zerolinewidth\": 2}}}},\n",
       "                        {\"responsive\": true}\n",
       "                    ).then(function(){\n",
       "                            \n",
       "var gd = document.getElementById('b8d06f00-c274-4937-8d7b-d10bbac831b8');\n",
       "var x = new MutationObserver(function (mutations, observer) {{\n",
       "        var display = window.getComputedStyle(gd).display;\n",
       "        if (!display || display === 'none') {{\n",
       "            console.log([gd, 'removed!']);\n",
       "            Plotly.purge(gd);\n",
       "            observer.disconnect();\n",
       "        }}\n",
       "}});\n",
       "\n",
       "// Listen for the removal of the full notebook cells\n",
       "var notebookContainer = gd.closest('#notebook-container');\n",
       "if (notebookContainer) {{\n",
       "    x.observe(notebookContainer, {childList: true});\n",
       "}}\n",
       "\n",
       "// Listen for the clearing of the current output cell\n",
       "var outputEl = gd.closest('.output');\n",
       "if (outputEl) {{\n",
       "    x.observe(outputEl, {childList: true});\n",
       "}}\n",
       "\n",
       "                        })\n",
       "                };\n",
       "                });\n",
       "            </script>\n",
       "        </div>"
      ]
     },
     "metadata": {},
     "output_type": "display_data"
    }
   ],
   "source": [
    "# 'credit- https://opensource.com/article/20/4/python-map-covid-19'\n",
    "list_countries = cases_values['location'].unique().tolist()\n",
    "d_country_code = {}  # To hold the country names and their ISO\n",
    "\n",
    "for country in list_countries:\n",
    "    try:\n",
    "        country_data = pycountry.countries.search_fuzzy(country)\n",
    "        country_code = country_data[0].alpha_3\n",
    "        d_country_code.update({country: country_code})\n",
    "    except:\n",
    "        d_country_code.update({country: ' '})\n",
    "\n",
    "for k, v in d_country_code.items():\n",
    "\n",
    "    cases_values.loc[(cases_values.location == k), 'iso_alpha'] = v\n",
    "\n",
    "fig = px.choropleth(data_frame = cases_values,\n",
    "                    locations= \"iso_alpha\",\n",
    "                    color= \"total_cases\",  # value in column 'Confirmed' determines color\n",
    "                    hover_name= \"location\",\n",
    "                    color_continuous_scale= 'RdYlGn'  #  color scale red, yellow green\n",
    "                )\n",
    "\n",
    "fig.show()"
   ]
  },
  {
   "cell_type": "code",
   "execution_count": 29,
   "metadata": {},
   "outputs": [],
   "source": [
    "fig.write_html(\"C:/Users/rohit/OneDrive/Desktop/Subjects/Fall2020/DataViz/Project/file.html\")"
   ]
  },
  {
   "cell_type": "code",
   "execution_count": 42,
   "metadata": {},
   "outputs": [
    {
     "data": {
      "image/png": "[encoded data removed]",
      "text/plain": [
       "<Figure size 432x288 with 1 Axes>"
      ]
     },
     "metadata": {
      "needs_background": "light"
     },
     "output_type": "display_data"
    }
   ],
   "source": [
    "for x in csv_df['location'].unique():\n",
    "    xAxis = csv_df['date'].loc[csv_df['location'] == x]\n",
    "    xAxis=pd.to_datetime(xAxis) # converting dates to DataTime    plt.plot(xAxis, csv_df[Total].loc[csv_df['location'] == x].fillna(0))\n",
    "    \n",
    "    plt.plot(xAxis, csv_df[\"new_cases\"].loc[csv_df['location'] == x].fillna(0))\n",
    "    \n",
    "plt.show()"
   ]
  },
  {
   "cell_type": "code",
   "execution_count": null,
   "metadata": {},
   "outputs": [],
   "source": []
  }
 ],
 "metadata": {
  "kernelspec": {
   "display_name": "Python 3",
   "language": "python",
   "name": "python3"
  },
  "language_info": {
   "codemirror_mode": {
    "name": "ipython",
    "version": 3
   },
   "file_extension": ".py",
   "mimetype": "text/x-python",
   "name": "python",
   "nbconvert_exporter": "python",
   "pygments_lexer": "ipython3",
   "version": "3.7.8"
  }
 },
 "nbformat": 4,
 "nbformat_minor": 4
}
