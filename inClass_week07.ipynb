{
 "cells": [
  {
   "cell_type": "code",
   "execution_count": 5,
   "metadata": {},
   "outputs": [],
   "source": [
    "# import usual things\n",
    "import pandas as pd\n",
    "import bqplot\n",
    "import numpy as np\n",
    "import traitlets\n",
    "import ipywidgets\n",
    "import matplotlib.pyplot as plt\n",
    "%matplotlib inline"
   ]
  },
  {
   "cell_type": "code",
   "execution_count": 85,
   "metadata": {},
   "outputs": [],
   "source": [
    "# randomly generated\n",
    "data = np.random.random( (10, 10) )"
   ]
  },
  {
   "cell_type": "code",
   "execution_count": 86,
   "metadata": {},
   "outputs": [
    {
     "data": {
      "text/plain": [
       "(10, 10)"
      ]
     },
     "execution_count": 86,
     "metadata": {},
     "output_type": "execute_result"
    }
   ],
   "source": [
    "data.shape\n"
   ]
  },
  {
   "cell_type": "code",
   "execution_count": 87,
   "metadata": {},
   "outputs": [],
   "source": [
    "# made a widget label\n",
    "mySelectedLabel = ipywidgets.Label()"
   ]
  },
  {
   "cell_type": "code",
   "execution_count": 88,
   "metadata": {},
   "outputs": [
    {
     "data": {
      "application/vnd.jupyter.widget-view+json": {
       "model_id": "b7421b11cad941d9b7b76ab5ff917c5d",
       "version_major": 2,
       "version_minor": 0
      },
      "text/plain": [
       "VBox(children=(Label(value=''), Figure(axes=[ColorAxis(orientation='vertical', scale=ColorScale(scheme='Reds')…"
      ]
     },
     "metadata": {},
     "output_type": "display_data"
    }
   ],
   "source": [
    "# first, just print out what is changing, what is selected\n",
    "# only support 1 selected grid\n",
    "def on_selected(change):\n",
    "    if len(change['owner'].selected) == 1:\n",
    "        #print(change['owner'].selected[0])\n",
    "        i, j = change['owner'].selected[0]\n",
    "        v = data[i,j] # grabbing the underlying datavalue associated with this row/column\n",
    "        mySelectedLabel.value = 'Data Value = ' + str(v)\n",
    "    \n",
    "# 1. Data -- see above\n",
    "\n",
    "# 2. Scale - color scale\n",
    "col_sc = bqplot.ColorScale(scheme=\"Reds\") \n",
    "# this is because the \"bins\" are just bins -- their order is NOT numerically important\n",
    "x_sc = bqplot.OrdinalScale()\n",
    "y_sc = bqplot.OrdinalScale()\n",
    "\n",
    "# 3. Axis -- for colors, the axis is a colorbar!\n",
    "ax_col = bqplot.ColorAxis(scale = col_sc, orientation='vertical', side='right') \n",
    "ax_x = bqplot.Axis(scale = x_sc) # same x/y ax we had before\n",
    "ax_y = bqplot.Axis(scale = y_sc, orientation='vertical')\n",
    "\n",
    "# 4. Mark -- heatmap\n",
    "heat_map = bqplot.GridHeatMap(color = data, scales = {'color':col_sc, 'row':y_sc, 'column':x_sc},\n",
    "                             interactions={'click':'select'},\n",
    "                             anchor_style={'fill':'blue'},\n",
    "                             selected_style={'opacity':1.0},\n",
    "                             unselected_style={'opacity':0.8})\n",
    "\n",
    "# 5. Interactions -- going to be built into the GridHeatMap mark (how things *look* when selection happens)\n",
    "# BUT I'm going to define what happens when the interaction takes place (something is selected)\n",
    "heat_map.observe(on_selected, 'selected')\n",
    "\n",
    "# Finally, a figure!\n",
    "fig = bqplot.Figure(marks = [heat_map], axes=[ax_col, ax_x, ax_y]) # have to add this axis to my figure object!\n",
    "#fig\n",
    "\n",
    "# combine the widget & figure and display both at the same time!\n",
    "myDashboard = ipywidgets.VBox([mySelectedLabel, fig])\n",
    "myDashboard # show the dashboard"
   ]
  },
  {
   "cell_type": "code",
   "execution_count": 89,
   "metadata": {},
   "outputs": [],
   "source": [
    "# same thing but with 3d data\n",
    "data3d = np.random.random( (10,10, 20) ) # x, y, z => 20 data points along each of my 10x10 2D data"
   ]
  },
  {
   "cell_type": "code",
   "execution_count": 90,
   "metadata": {},
   "outputs": [
    {
     "data": {
      "text/plain": [
       "(10, 10, 20)"
      ]
     },
     "execution_count": 90,
     "metadata": {},
     "output_type": "execute_result"
    }
   ],
   "source": [
    "data3d.shape"
   ]
  },
  {
   "cell_type": "code",
   "execution_count": 91,
   "metadata": {},
   "outputs": [
    {
     "data": {
      "text/plain": [
       "array([0.74713461, 0.22925889, 0.53462776, 0.94197917, 0.05938461,\n",
       "       0.1418959 , 0.31888134, 0.52429356, 0.84238218, 0.75010593,\n",
       "       0.01076606, 0.30363049, 0.20989184, 0.54940561, 0.05249615,\n",
       "       0.22211523, 0.62377517, 0.65403906, 0.90836022, 0.22241783])"
      ]
     },
     "execution_count": 91,
     "metadata": {},
     "output_type": "execute_result"
    }
   ],
   "source": [
    "# let's say I select the 0,0 in x/y\n",
    "i,j = 0,0\n",
    "\n",
    "data3d[i,j,:] # want to make a histogram showing the distribution of the 20 z-values"
   ]
  },
  {
   "cell_type": "code",
   "execution_count": 92,
   "metadata": {},
   "outputs": [
    {
     "data": {
      "text/plain": [
       "0.4423420800422749"
      ]
     },
     "execution_count": 92,
     "metadata": {},
     "output_type": "execute_result"
    }
   ],
   "source": [
    "# show the mean of this 20-value data subset in our label\n",
    "data3d[i,j,:].mean()"
   ]
  },
  {
   "cell_type": "code",
   "execution_count": 93,
   "metadata": {},
   "outputs": [
    {
     "data": {
      "text/plain": [
       "array([[0.44234208, 0.49062674, 0.42347097, 0.52640009, 0.55771698,\n",
       "        0.49048605, 0.53733577, 0.4459124 , 0.53441121, 0.40890015],\n",
       "       [0.5786026 , 0.40254961, 0.53930849, 0.59397626, 0.60946223,\n",
       "        0.50509474, 0.54647639, 0.51648371, 0.51087145, 0.55913939],\n",
       "       [0.55927416, 0.47714954, 0.53706891, 0.48471041, 0.45061852,\n",
       "        0.53351669, 0.53165145, 0.46073097, 0.43408658, 0.49011054],\n",
       "       [0.51189114, 0.62226553, 0.39236824, 0.41940202, 0.55277294,\n",
       "        0.53251408, 0.42448509, 0.54997575, 0.28938453, 0.52040889],\n",
       "       [0.44717919, 0.52071338, 0.47946343, 0.43597562, 0.39361494,\n",
       "        0.48383053, 0.5076342 , 0.37400041, 0.48993098, 0.44478145],\n",
       "       [0.50222668, 0.49061162, 0.50988804, 0.49029216, 0.467349  ,\n",
       "        0.34735991, 0.47491791, 0.57517362, 0.43188501, 0.4257217 ],\n",
       "       [0.52432971, 0.55543884, 0.60867989, 0.41567601, 0.50715617,\n",
       "        0.51093435, 0.54065099, 0.51642944, 0.48255673, 0.52256653],\n",
       "       [0.43001468, 0.43884801, 0.4876034 , 0.5453343 , 0.53498911,\n",
       "        0.52165651, 0.49388793, 0.57496319, 0.46114654, 0.5426823 ],\n",
       "       [0.5356751 , 0.42685521, 0.48400276, 0.44546221, 0.49349849,\n",
       "        0.41130014, 0.56080326, 0.53455627, 0.48264805, 0.33877698],\n",
       "       [0.64463276, 0.39062516, 0.51247104, 0.44388867, 0.49435002,\n",
       "        0.43310805, 0.44815224, 0.52151322, 0.57348933, 0.53794136]])"
      ]
     },
     "execution_count": 93,
     "metadata": {},
     "output_type": "execute_result"
    }
   ],
   "source": [
    "# for our heatmap we'll show the mean long the z-axis\n",
    "data3d.mean(axis=2)"
   ]
  },
  {
   "cell_type": "code",
   "execution_count": 94,
   "metadata": {},
   "outputs": [
    {
     "data": {
      "text/plain": [
       "(10, 10)"
      ]
     },
     "execution_count": 94,
     "metadata": {},
     "output_type": "execute_result"
    }
   ],
   "source": [
    "data3d.mean(axis=2).shape"
   ]
  },
  {
   "cell_type": "code",
   "execution_count": 95,
   "metadata": {},
   "outputs": [
    {
     "data": {
      "application/vnd.jupyter.widget-view+json": {
       "model_id": "8ee94a05f93c4c47ab43512067ae4451",
       "version_major": 2,
       "version_minor": 0
      },
      "text/plain": [
       "VBox(children=(Label(value=''), Figure(axes=[ColorAxis(label='Mean', orientation='vertical', scale=ColorScale(…"
      ]
     },
     "metadata": {},
     "output_type": "display_data"
    }
   ],
   "source": [
    "# first, just print out what is changing, what is selected\n",
    "# only support 1 selected grid\n",
    "def on_selected(change):\n",
    "    if len(change['owner'].selected) == 1:\n",
    "        #print(change['owner'].selected[0])\n",
    "        i, j = change['owner'].selected[0]\n",
    "        v = data3d[i,j,:].mean() # CHANGED THIS FOR 3D DATA!!!\n",
    "        mySelectedLabel.value = 'Mean Data Value (along z-axis) = ' + str(v)\n",
    "    \n",
    "# 1. Data -- data3d (now 3D data)\n",
    "\n",
    "# 2. Scale - color scale\n",
    "col_sc = bqplot.ColorScale(scheme=\"Reds\") \n",
    "# this is because the \"bins\" are just bins -- their order is NOT numerically important\n",
    "x_sc = bqplot.OrdinalScale()\n",
    "y_sc = bqplot.OrdinalScale()\n",
    "\n",
    "# 3. Axis -- for colors, the axis is a colorbar!\n",
    "ax_col = bqplot.ColorAxis(scale = col_sc, orientation='vertical', side='right', label='Mean') \n",
    "ax_x = bqplot.Axis(scale = x_sc) # same x/y ax we had before\n",
    "ax_y = bqplot.Axis(scale = y_sc, orientation='vertical')\n",
    "\n",
    "# 4. Mark -- heatmap\n",
    "heat_map = bqplot.GridHeatMap(color = data3d.mean(axis=2), scales = {'color':col_sc, 'row':y_sc, 'column':x_sc},\n",
    "                             interactions={'click':'select'},\n",
    "                             anchor_style={'fill':'blue'},\n",
    "                             selected_style={'opacity':1.0},\n",
    "                             unselected_style={'opacity':0.8})\n",
    "\n",
    "# 5. Interactions -- going to be built into the GridHeatMap mark (how things *look* when selection happens)\n",
    "# BUT I'm going to define what happens when the interaction takes place (something is selected)\n",
    "heat_map.observe(on_selected, 'selected')\n",
    "\n",
    "# Finally, a figure!\n",
    "fig = bqplot.Figure(marks = [heat_map], axes=[ax_col, ax_x, ax_y]) # have to add this axis to my figure object!\n",
    "#fig\n",
    "\n",
    "# combine the widget & figure and display both at the same time!\n",
    "myDashboard = ipywidgets.VBox([mySelectedLabel, fig])\n",
    "myDashboard # show the dashboard"
   ]
  },
  {
   "cell_type": "markdown",
   "metadata": {},
   "source": [
    "First things first, before doing the whole dashboard, let's just make a *static* histogram."
   ]
  },
  {
   "cell_type": "code",
   "execution_count": 96,
   "metadata": {},
   "outputs": [
    {
     "data": {
      "text/plain": [
       "array([0.61792121, 0.44018751, 0.81986372, 0.05285409, 0.68444822,\n",
       "       0.5059552 , 0.06414162, 0.95882074, 0.51764019, 0.50422195,\n",
       "       0.99012448, 0.66435271, 0.15769651, 0.59299036, 0.06147495,\n",
       "       0.71942401, 0.08659593, 0.27623915, 0.48213466, 0.61544753])"
      ]
     },
     "execution_count": 96,
     "metadata": {},
     "output_type": "execute_result"
    }
   ],
   "source": [
    "# 1. Data -- data for the histogram\n",
    "i, j = 0, 1 # right now, this is fixed\n",
    "data3d[i,j]"
   ]
  },
  {
   "cell_type": "code",
   "execution_count": 97,
   "metadata": {},
   "outputs": [],
   "source": [
    "# 2. Scales -- histogram, linear scales for numerical values\n",
    "x_sch = bqplot.LinearScale()\n",
    "y_sch = bqplot.LinearScale()"
   ]
  },
  {
   "cell_type": "code",
   "execution_count": 98,
   "metadata": {},
   "outputs": [],
   "source": [
    "# 3. Axis -- x & y\n",
    "ax_xh = bqplot.Axis(scale=x_sch, label='Value of 3rd Axis') # binning into here\n",
    "ax_yh = bqplot.Axis(scale=y_sch, orientation='vertical', label='Frequency')"
   ]
  },
  {
   "cell_type": "code",
   "execution_count": 99,
   "metadata": {},
   "outputs": [],
   "source": [
    "# 4. Marks\n",
    "bqplot.Hist?"
   ]
  },
  {
   "cell_type": "code",
   "execution_count": 100,
   "metadata": {},
   "outputs": [],
   "source": [
    "hist = bqplot.Hist(sample = data3d[i,j], \n",
    "                  normalized=False,\n",
    "                  scales={'sample':x_sch, 'count': y_sch}, # sample = data, x, count is calculate in this mark\n",
    "                  bins=5)"
   ]
  },
  {
   "cell_type": "code",
   "execution_count": 101,
   "metadata": {},
   "outputs": [
    {
     "data": {
      "application/vnd.jupyter.widget-view+json": {
       "model_id": "d30fbf75f1d843ae8955afc1d8081aa5",
       "version_major": 2,
       "version_minor": 0
      },
      "text/plain": [
       "Figure(axes=[Axis(label='Value of 3rd Axis', scale=LinearScale(), side='bottom'), Axis(label='Frequency', orie…"
      ]
     },
     "metadata": {},
     "output_type": "display_data"
    }
   ],
   "source": [
    "figh = bqplot.Figure(marks=[hist], axes=[ax_xh, ax_yh])\n",
    "figh"
   ]
  },
  {
   "cell_type": "markdown",
   "metadata": {},
   "source": [
    "The final piece is figuring out what to change in our histogram mark when the grid selection is updated."
   ]
  },
  {
   "cell_type": "code",
   "execution_count": 28,
   "metadata": {},
   "outputs": [
    {
     "data": {
      "text/plain": [
       "['_model_module',\n",
       " '_model_module_version',\n",
       " '_model_name',\n",
       " '_view_count',\n",
       " '_view_module',\n",
       " '_view_module_version',\n",
       " '_view_name',\n",
       " 'apply_clip',\n",
       " 'bins',\n",
       " 'colors',\n",
       " 'count',\n",
       " 'display_legend',\n",
       " 'enable_hover',\n",
       " 'interactions',\n",
       " 'labels',\n",
       " 'midpoints',\n",
       " 'normalized',\n",
       " 'opacities',\n",
       " 'preserve_domain',\n",
       " 'sample',\n",
       " 'scales',\n",
       " 'scales_metadata',\n",
       " 'selected',\n",
       " 'selected_style',\n",
       " 'stroke',\n",
       " 'tooltip',\n",
       " 'tooltip_location',\n",
       " 'tooltip_style',\n",
       " 'unselected_style',\n",
       " 'visible']"
      ]
     },
     "execution_count": 28,
     "metadata": {},
     "output_type": "execute_result"
    }
   ],
   "source": [
    "hist.keys"
   ]
  },
  {
   "cell_type": "code",
   "execution_count": 102,
   "metadata": {},
   "outputs": [
    {
     "data": {
      "text/plain": [
       "array([[[0.74713461, 0.22925889, 0.53462776, ..., 0.65403906,\n",
       "         0.90836022, 0.22241783],\n",
       "        [0.61792121, 0.44018751, 0.81986372, ..., 0.27623915,\n",
       "         0.48213466, 0.61544753],\n",
       "        [0.57407853, 0.28931549, 0.51628541, ..., 0.83752645,\n",
       "         0.68007942, 0.44067744],\n",
       "        ...,\n",
       "        [0.34032895, 0.66057294, 0.8931503 , ..., 0.5325913 ,\n",
       "         0.25686666, 0.45975766],\n",
       "        [0.16700584, 0.03384689, 0.80680896, ..., 0.49301445,\n",
       "         0.89490407, 0.89307206],\n",
       "        [0.61067048, 0.71540721, 0.85510307, ..., 0.04913584,\n",
       "         0.6774619 , 0.69205931]],\n",
       "\n",
       "       [[0.01197032, 0.97529903, 0.98287885, ..., 0.66790379,\n",
       "         0.01136543, 0.46847992],\n",
       "        [0.67165481, 0.99733314, 0.02074049, ..., 0.20919569,\n",
       "         0.49338188, 0.16601776],\n",
       "        [0.06895452, 0.14569253, 0.34216741, ..., 0.4859586 ,\n",
       "         0.67926807, 0.77416125],\n",
       "        ...,\n",
       "        [0.63734531, 0.53057332, 0.3733005 , ..., 0.81653342,\n",
       "         0.84071645, 0.65875949],\n",
       "        [0.95650503, 0.56207606, 0.28473585, ..., 0.17023   ,\n",
       "         0.60300532, 0.42777847],\n",
       "        [0.84484186, 0.03063137, 0.87837942, ..., 0.32917525,\n",
       "         0.45921547, 0.76315444]],\n",
       "\n",
       "       [[0.80204101, 0.38324366, 0.06642211, ..., 0.85147507,\n",
       "         0.38992241, 0.72036542],\n",
       "        [0.11672892, 0.72726503, 0.29643992, ..., 0.4621157 ,\n",
       "         0.54753246, 0.19326711],\n",
       "        [0.47907344, 0.29971749, 0.47185754, ..., 0.04569315,\n",
       "         0.21587112, 0.9419515 ],\n",
       "        ...,\n",
       "        [0.19194209, 0.45506526, 0.06252491, ..., 0.1749528 ,\n",
       "         0.77041732, 0.86342027],\n",
       "        [0.41574655, 0.73249597, 0.15381395, ..., 0.3194146 ,\n",
       "         0.53055579, 0.70681587],\n",
       "        [0.83848337, 0.2885811 , 0.00649622, ..., 0.27525671,\n",
       "         0.76708333, 0.22098627]],\n",
       "\n",
       "       ...,\n",
       "\n",
       "       [[0.74345069, 0.9896127 , 0.28047145, ..., 0.05800401,\n",
       "         0.6100272 , 0.77012469],\n",
       "        [0.6351567 , 0.44153413, 0.26200671, ..., 0.05482276,\n",
       "         0.81907082, 0.57400557],\n",
       "        [0.61038534, 0.81131612, 0.85584273, ..., 0.32287481,\n",
       "         0.84397982, 0.45421134],\n",
       "        ...,\n",
       "        [0.64384092, 0.94004876, 0.41825811, ..., 0.86536133,\n",
       "         0.06470347, 0.80158384],\n",
       "        [0.00732988, 0.92099904, 0.13163322, ..., 0.85071687,\n",
       "         0.31453318, 0.16212218],\n",
       "        [0.22366621, 0.07902714, 0.5355131 , ..., 0.91556508,\n",
       "         0.27934326, 0.00302609]],\n",
       "\n",
       "       [[0.80493685, 0.39380828, 0.89573799, ..., 0.77616094,\n",
       "         0.16602318, 0.49491095],\n",
       "        [0.63020964, 0.87311606, 0.21307713, ..., 0.19360186,\n",
       "         0.33052318, 0.13726428],\n",
       "        [0.00547572, 0.45217875, 0.77128484, ..., 0.00827511,\n",
       "         0.07808883, 0.85903574],\n",
       "        ...,\n",
       "        [0.53836568, 0.44630553, 0.09364758, ..., 0.80352724,\n",
       "         0.369402  , 0.89316732],\n",
       "        [0.015884  , 0.47039616, 0.67842805, ..., 0.02477805,\n",
       "         0.81162951, 0.31088415],\n",
       "        [0.32388037, 0.34407838, 0.33395848, ..., 0.10937629,\n",
       "         0.34837192, 0.07006063]],\n",
       "\n",
       "       [[0.67615628, 0.71489101, 0.44999796, ..., 0.51714172,\n",
       "         0.76433612, 0.38178108],\n",
       "        [0.35869185, 0.56457006, 0.56532903, ..., 0.74523106,\n",
       "         0.95142774, 0.44791754],\n",
       "        [0.17376528, 0.33002513, 0.52022331, ..., 0.70915777,\n",
       "         0.67878071, 0.52817353],\n",
       "        ...,\n",
       "        [0.64215084, 0.35559661, 0.35081644, ..., 0.66535518,\n",
       "         0.90700243, 0.62669198],\n",
       "        [0.37070134, 0.95695897, 0.97509522, ..., 0.21422453,\n",
       "         0.36086165, 0.60838213],\n",
       "        [0.69167077, 0.23826695, 0.22962552, ..., 0.74283412,\n",
       "         0.36357237, 0.1663465 ]]])"
      ]
     },
     "execution_count": 102,
     "metadata": {},
     "output_type": "execute_result"
    }
   ],
   "source": [
    "hist.sample\n",
    "data3d"
   ]
  },
  {
   "cell_type": "code",
   "execution_count": 108,
   "metadata": {},
   "outputs": [],
   "source": [
    "def on_selected(change): # already modified for our 3d data\n",
    "    if len(change['owner'].selected) == 1:\n",
    "        i, j = change['owner'].selected[0]\n",
    "        v = data3d[i,j,:].mean() # CHANGED THIS FOR 3D DATA!!!\n",
    "        mySelectedLabel.value = 'Mean Data Value (along z-axis) = ' + str(v)\n",
    "        # Add in what changes for our histogram\n",
    "        hist.sample = data3d[i,j]"
   ]
  },
  {
   "cell_type": "markdown",
   "metadata": {},
   "source": [
    "Building dashboard componenets -- #1 heatmap"
   ]
  },
  {
   "cell_type": "code",
   "execution_count": 109,
   "metadata": {},
   "outputs": [],
   "source": [
    "# 1. Data -- see above\n",
    "\n",
    "# 2. Scale - color scale\n",
    "col_sc = bqplot.ColorScale(scheme=\"Reds\") \n",
    "# this is because the \"bins\" are just bins -- their order is NOT numerically important\n",
    "x_sc = bqplot.OrdinalScale()\n",
    "y_sc = bqplot.OrdinalScale()\n",
    "\n",
    "# 3. Axis -- for colors, the axis is a colorbar!\n",
    "ax_col = bqplot.ColorAxis(scale = col_sc, orientation='vertical', side='right') \n",
    "ax_x = bqplot.Axis(scale = x_sc) # same x/y ax we had before\n",
    "ax_y = bqplot.Axis(scale = y_sc, orientation='vertical')\n",
    "\n",
    "# 4. Mark -- heatmap\n",
    "heat_map = bqplot.GridHeatMap(color = data, scales = {'color':col_sc, 'row':y_sc, 'column':x_sc},\n",
    "                             interactions={'click':'select'},\n",
    "                             anchor_style={'fill':'blue'},\n",
    "                             selected_style={'opacity':1.0},\n",
    "                             unselected_style={'opacity':0.8})\n",
    "\n",
    "# 5. Interactions -- going to be built into the GridHeatMap mark (how things *look* when selection happens)\n",
    "# BUT I'm going to define what happens when the interaction takes place (something is selected)\n",
    "heat_map.observe(on_selected, 'selected')\n",
    "\n",
    "# Finally, a figure!\n",
    "fig = bqplot.Figure(marks = [heat_map], axes=[ax_col, ax_x, ax_y]) # have to add this axis to my figure object!"
   ]
  },
  {
   "cell_type": "markdown",
   "metadata": {},
   "source": [
    "#2 we'll add in the histogram generation"
   ]
  },
  {
   "cell_type": "code",
   "execution_count": 110,
   "metadata": {},
   "outputs": [],
   "source": [
    "# 2. Scales -- histogram, linear scales for numerical values\n",
    "x_sch = bqplot.LinearScale()\n",
    "y_sch = bqplot.LinearScale()\n",
    "\n",
    "# 3. Axis -- x & y\n",
    "ax_xh = bqplot.Axis(scale=x_sch, label='Value of 3rd Axis') # binning into here\n",
    "ax_yh = bqplot.Axis(scale=y_sch, orientation='vertical', label='Frequency')\n",
    "\n",
    "i, j = 0,0 # to start, this is hardcoded\n",
    "hist = bqplot.Hist(sample = data3d[i,j], \n",
    "                  normalized=False,\n",
    "                  scales={'sample':x_sch, 'count': y_sch}, # sample = data, x, count is calculate in this mark\n",
    "                  bins=5)\n",
    "\n",
    "figh = bqplot.Figure(marks=[hist], axes=[ax_xh, ax_yh])"
   ]
  },
  {
   "cell_type": "markdown",
   "metadata": {},
   "source": [
    "Put it all together into a dashboard:"
   ]
  },
  {
   "cell_type": "code",
   "execution_count": 105,
   "metadata": {},
   "outputs": [
    {
     "data": {
      "application/vnd.jupyter.widget-view+json": {
       "model_id": "b49d5d027378446b9af9e18b8d0e49ac",
       "version_major": 2,
       "version_minor": 0
      },
      "text/plain": [
       "VBox(children=(Label(value='Data Value = 0.9505422885906845'), HBox(children=(Figure(axes=[ColorAxis(orientati…"
      ]
     },
     "metadata": {},
     "output_type": "display_data"
    }
   ],
   "source": [
    "figures = ipywidgets.HBox([fig, figh]) # figures side-by-side\n",
    "\n",
    "# label on top\n",
    "myDashboard = ipywidgets.VBox([mySelectedLabel, figures])\n",
    "myDashboard"
   ]
  },
  {
   "cell_type": "code",
   "execution_count": 34,
   "metadata": {},
   "outputs": [
    {
     "data": {
      "application/vnd.jupyter.widget-view+json": {
       "model_id": "b745c939e0eb4b538787eb6569c5c6e2",
       "version_major": 2,
       "version_minor": 0
      },
      "text/plain": [
       "VBox(children=(Label(value='Mean Data Value (along z-axis) = 0.4487889339088224'), HBox(children=(Figure(axes=…"
      ]
     },
     "metadata": {},
     "output_type": "display_data"
    }
   ],
   "source": [
    "# mess with some layout parameters (look a little like CSS stylings)\n",
    "fig.layout.min_width='500px'\n",
    "figh.layout.min_width='500px'\n",
    "\n",
    "figures = ipywidgets.HBox([fig, figh]) # figures side-by-side\n",
    "\n",
    "# label on top\n",
    "myDashboard = ipywidgets.VBox([mySelectedLabel, figures])\n",
    "myDashboard"
   ]
  },
  {
   "cell_type": "markdown",
   "metadata": {},
   "source": [
    "One more thing: variable bin size for histogram."
   ]
  },
  {
   "cell_type": "code",
   "execution_count": 35,
   "metadata": {},
   "outputs": [
    {
     "data": {
      "text/plain": [
       "['_model_module',\n",
       " '_model_module_version',\n",
       " '_model_name',\n",
       " '_view_count',\n",
       " '_view_module',\n",
       " '_view_module_version',\n",
       " '_view_name',\n",
       " 'apply_clip',\n",
       " 'bins',\n",
       " 'colors',\n",
       " 'count',\n",
       " 'display_legend',\n",
       " 'enable_hover',\n",
       " 'interactions',\n",
       " 'labels',\n",
       " 'midpoints',\n",
       " 'normalized',\n",
       " 'opacities',\n",
       " 'preserve_domain',\n",
       " 'sample',\n",
       " 'scales',\n",
       " 'scales_metadata',\n",
       " 'selected',\n",
       " 'selected_style',\n",
       " 'stroke',\n",
       " 'tooltip',\n",
       " 'tooltip_location',\n",
       " 'tooltip_style',\n",
       " 'unselected_style',\n",
       " 'visible']"
      ]
     },
     "execution_count": 35,
     "metadata": {},
     "output_type": "execute_result"
    }
   ],
   "source": [
    "hist.keys"
   ]
  },
  {
   "cell_type": "code",
   "execution_count": 36,
   "metadata": {},
   "outputs": [
    {
     "data": {
      "text/plain": [
       "5"
      ]
     },
     "execution_count": 36,
     "metadata": {},
     "output_type": "execute_result"
    }
   ],
   "source": [
    "hist.bins # a trait of our histogram mark"
   ]
  },
  {
   "cell_type": "code",
   "execution_count": 37,
   "metadata": {},
   "outputs": [],
   "source": [
    "bins_slider = ipywidgets.IntSlider(value=5, min=1, max=data3d.shape[2])"
   ]
  },
  {
   "cell_type": "code",
   "execution_count": 38,
   "metadata": {},
   "outputs": [
    {
     "data": {
      "application/vnd.jupyter.widget-view+json": {
       "model_id": "aec27d7d38944653bf7c8f811ef6f6c1",
       "version_major": 2,
       "version_minor": 0
      },
      "text/plain": [
       "IntSlider(value=5, max=20, min=1)"
      ]
     },
     "metadata": {},
     "output_type": "display_data"
    }
   ],
   "source": [
    "bins_slider"
   ]
  },
  {
   "cell_type": "code",
   "execution_count": 39,
   "metadata": {},
   "outputs": [
    {
     "data": {
      "text/plain": [
       "Link(source=(IntSlider(value=14, max=20, min=1), 'value'), target=(Hist(bins=5, colors=['steelblue'], count=ar…"
      ]
     },
     "metadata": {},
     "output_type": "display_data"
    }
   ],
   "source": [
    "ipywidgets.jslink( (bins_slider,'value'), (hist, 'bins') )"
   ]
  },
  {
   "cell_type": "code",
   "execution_count": 40,
   "metadata": {},
   "outputs": [
    {
     "data": {
      "application/vnd.jupyter.widget-view+json": {
       "model_id": "eddf0fef841f4d1d9559ccfc6d9f238f",
       "version_major": 2,
       "version_minor": 0
      },
      "text/plain": [
       "VBox(children=(HBox(children=(Label(value='Mean Data Value (along z-axis) = 0.40487185315322904'), IntSlider(v…"
      ]
     },
     "metadata": {},
     "output_type": "display_data"
    }
   ],
   "source": [
    "# mess with some layout parameters (look a little like CSS stylings)\n",
    "fig.layout.min_width='500px'\n",
    "figh.layout.min_width='500px'\n",
    "\n",
    "figures = ipywidgets.HBox([fig, figh]) # figures side-by-side\n",
    "\n",
    "# control panel (bins)\n",
    "controls = ipywidgets.HBox([mySelectedLabel, bins_slider])\n",
    "\n",
    "# label on top\n",
    "myDashboard = ipywidgets.VBox([controls, figures])\n",
    "myDashboard"
   ]
  },
  {
   "cell_type": "markdown",
   "metadata": {},
   "source": [
    "## Next: a \"real\" dataset -- UFOs"
   ]
  },
  {
   "cell_type": "code",
   "execution_count": 6,
   "metadata": {},
   "outputs": [],
   "source": [
    "ufos = pd.read_csv(\"C:/Users/rohit/OneDrive/Desktop/Subjects/Fall2020/DataViz/Week 4/ufo-scrubbed-geocoded-time-standardized-00.csv\",\n",
    "                  names = [\"date\", \"city\", \"state\", \"country\",\n",
    "                          \"shape\", \"duration_seconds\", \"duration\",\n",
    "                          \"comment\", \"report_date\", \n",
    "                           \"latitude\", \"longitude\"],\n",
    "                  parse_dates = [\"date\", \"report_date\"])"
   ]
  },
  {
   "cell_type": "code",
   "execution_count": 7,
   "metadata": {},
   "outputs": [
    {
     "data": {
      "text/plain": [
       "80332"
      ]
     },
     "execution_count": 7,
     "metadata": {},
     "output_type": "execute_result"
    }
   ],
   "source": [
    "len(ufos)"
   ]
  },
  {
   "cell_type": "code",
   "execution_count": 8,
   "metadata": {},
   "outputs": [
    {
     "data": {
      "text/plain": [
       "array([28600, 36428, 58819, 44418, 43932, 42481, 19403, 72727, 71756,\n",
       "       31929, 68499, 43264, 66417,  2848, 59055, 27756, 17846, 60993,\n",
       "       65605, 13383, 39381, 51202, 50708, 50648, 16328, 24667, 14414,\n",
       "       77032, 63415, 63553,  5457, 49761, 12575, 73458, 15349, 22541,\n",
       "       42217, 26897, 63328, 78957, 34899, 34547, 76148, 27236, 43258,\n",
       "       33328, 55222, 58796, 51830, 58299, 58698, 40373, 44828, 62818,\n",
       "       54646, 60700, 49024, 66348, 74275, 33040, 79648, 22155, 16721,\n",
       "       60876, 44432, 14383,  2033, 24291, 66989,  5274,  7473, 56217,\n",
       "       18213, 50297, 21515, 60439, 75355, 41783, 41688, 39479, 62647,\n",
       "       66438, 75311, 27355,   812, 19956, 10625, 49502, 41016,  6347,\n",
       "       59428, 41445, 39799, 39522,  6260, 35758, 45526,  6103, 73657,\n",
       "        1103, 35802, 56675,  4142, 49877, 38693, 79157,  3278, 59979,\n",
       "        7381, 53945, 37285, 66301, 29165, 58696, 26609, 79813, 31425,\n",
       "       76778, 58067, 50724, 37365, 53096, 70607, 37466, 34869, 13838,\n",
       "       26260,  6384, 61222, 31033, 31772, 67897, 62190, 37283, 72654,\n",
       "       69642, 27027, 56538, 71698, 61053, 62919,  9575, 13050, 66020,\n",
       "       41940, 11590, 14666, 28336, 27433, 75989, 36129, 79141, 56428,\n",
       "       10202, 55355, 21032, 46814, 56173, 35242,  6505, 27935, 14371,\n",
       "       26693, 60008, 52614, 70602, 76699, 77469, 49096, 35378, 71583,\n",
       "       32126,  7248, 21021, 41537, 58999, 29268, 52724,  8582, 52385,\n",
       "       37319,  4585, 25720, 29352, 36869, 80144, 25757, 34696, 54776,\n",
       "       13166, 57030, 50606, 76412, 61779, 46926, 50801, 40116, 57116,\n",
       "       45936, 18458, 47201, 17283, 63545, 16487, 21817, 21507,  9418,\n",
       "       15508, 36918, 18417, 71448,  8965, 33139, 79351, 47982, 56476,\n",
       "       70494, 35287, 56368, 59662, 39238, 71447, 36170, 77860, 47799,\n",
       "       63241, 25891,  4598,  1479, 66211, 13872,  1070, 34165, 43107,\n",
       "       58659, 29269, 17085, 59122, 51580, 19268, 47184, 33556, 22439,\n",
       "       40634,  3203, 51273, 30414, 46736, 28021, 68290, 60722, 72487,\n",
       "       43178, 50812, 42583, 68629, 79452, 51746, 22172, 71355, 72567,\n",
       "       25576, 42582, 60728, 36607, 20639, 78587, 54768, 11670, 12124,\n",
       "       41177, 17416, 27049, 19574, 25112, 53912, 24542, 53526, 39664,\n",
       "       15145, 28847, 45746, 30493, 53450, 43785, 18202, 24560, 57306,\n",
       "       78720, 27664, 71916, 47672, 74477, 14565, 21272, 74789, 66626,\n",
       "       19795, 44326, 53054, 43624, 43023, 29286, 18956, 60044, 24812,\n",
       "       48672, 41079, 13971, 39380, 45243, 36905,  7808, 73898, 64929,\n",
       "       75670, 55049, 58187, 67762, 65304, 80147, 79809, 56422, 73672,\n",
       "       70407, 42926, 24534, 57910, 15710, 26093, 56220, 51218, 11969,\n",
       "       63095, 69136, 23735, 18180, 54230, 30230, 71326, 39858, 62022,\n",
       "       19851, 78255, 64524, 40090, 36140, 13561,  6228, 10282, 56819,\n",
       "       74543, 12032,  6858, 70210, 80236, 11240, 40876, 18927, 76155,\n",
       "       40018, 49294, 39045, 78927, 40930, 18529, 10098, 16379, 54438,\n",
       "       13855, 46549, 21863, 67996,  7134, 38616, 63717, 35086,  5046,\n",
       "       43017, 25125,  6757, 24244, 14553, 28144, 57600,  6209, 51818,\n",
       "       76868, 44244, 32384, 53631, 29441, 58929, 79766, 69738,  2304,\n",
       "       19949, 65958, 15094, 40736, 48671, 55893, 54988, 53043, 20147,\n",
       "       13265, 38037, 33034, 37224, 38468, 61953,  3881, 31663, 28675,\n",
       "       59686, 18845, 63285,  5071, 32390, 46468, 31672, 27031,  6864,\n",
       "       14155, 49028, 78030, 64970, 70029, 22693, 11986, 49792,  3456,\n",
       "       72579, 29158, 72479,  8250, 59940,  8223, 69386, 54345,  8006,\n",
       "       43864, 22381,  1470, 50855, 34112, 37127, 64140, 35145, 52914,\n",
       "       73205, 67940, 38444, 72125, 35541, 48221, 17209, 48739, 49616,\n",
       "       52948, 67749, 70813, 50715, 53082, 13607, 29828, 31408, 69111,\n",
       "       72393, 73838, 75754, 40038, 55542, 22728, 64671, 26314, 37253,\n",
       "       68151, 21184, 36805, 20822, 44876, 75232, 67624, 73239, 76731,\n",
       "       61811, 17977, 23480, 20818, 71118, 12532, 75119, 54299, 51959,\n",
       "       41805, 60974, 23180, 74056, 19476, 40428, 35240, 19326, 27566,\n",
       "       14620, 78883, 79081, 23392, 27127,  1768, 26026, 73865, 28081,\n",
       "       48872, 12227, 17059, 24325, 73746, 42018, 32911, 28498, 38830,\n",
       "       51146, 10588, 40166, 74312,  6948, 24976,  2998, 66827,  4429,\n",
       "       38763,  9335, 16960, 51914, 14211, 44231, 10573, 58280, 21355,\n",
       "       23001, 37326, 67109, 18272, 41695, 37909, 42854, 31982,  7647,\n",
       "       33856, 13780, 77863, 41204, 31971, 32420, 26824,   681,  8633,\n",
       "       65303, 38525, 44543,  2223, 10087, 67863, 17569, 67342, 71506,\n",
       "       43678, 72287, 59413, 43537, 78430, 25922, 69092, 39791, 53668,\n",
       "       33148, 58527, 63693, 54524, 10876, 72336, 73685,  9432,  9520,\n",
       "       15723, 46380, 16618, 51012, 25437, 30304, 36246, 53565, 34516,\n",
       "       40477, 72314, 41502, 36534, 25108, 49092, 12056, 20252, 43353,\n",
       "       67693,  6994, 30869, 27707, 57231,  9205, 18479, 40034, 71436,\n",
       "        7636, 58912, 25302,  7297, 55138, 45815, 25390, 11718, 59785,\n",
       "       64039,   654, 39023, 16986, 50969, 30698, 72301, 69334, 48117,\n",
       "       43103, 42824, 42256, 12887, 18097,  6503, 60623, 15821, 24814,\n",
       "       36494, 39398, 53770, 31197, 67165, 37921,  6805, 19768, 21299,\n",
       "        7435, 16108, 62750, 20359, 68441, 42260, 74632, 33437, 55452,\n",
       "       78846, 30453,  1767, 71079, 77919, 46924, 26991, 55810,  5956,\n",
       "       32523, 53989, 68470, 69497, 15062,   460, 76578, 19094, 33440,\n",
       "       46839, 57660, 33045, 50842, 17226, 37646, 16983, 23367, 68540,\n",
       "       23687,  5258, 71722, 27515,  4870, 68693, 68203,  5008,   752,\n",
       "       21520, 68944, 71141, 58428, 76255, 58359, 22477, 55675, 59474,\n",
       "       38839, 70864, 71931, 39743, 12343, 35656, 37914,  6829, 58985,\n",
       "        3606, 29392, 40904, 63785, 70304, 36546, 53825, 16876, 79918,\n",
       "       74858,  1017,  1211, 43670, 65849,   782, 78282, 79000,  3479,\n",
       "       13096, 41866, 35674,   211,  7241, 69584, 18151, 45718, 37109,\n",
       "       41512, 39313, 11821, 70262, 71666, 64417,  1461, 52348, 39797,\n",
       "         508, 67223, 36519, 28658,  5128, 56623, 28719, 76265, 50714,\n",
       "        7718, 25235,  2059, 33480,  6600, 72749, 50836, 28148, 59882,\n",
       "       64978, 49241, 45216, 41868, 17726,  4181, 47629, 29621, 49780,\n",
       "        3499, 58393,  8140, 34747, 71155, 42201, 58378, 60741, 64266,\n",
       "       58410,  1245, 73561, 29883, 27459, 39180, 36572, 35918,  5657,\n",
       "        8053, 50111, 57502, 10653,  4506, 42653, 59242, 79194,  2152,\n",
       "       75091, 41437,  2770, 70799, 30486, 18306, 46488, 47055, 70144,\n",
       "       53835, 43016, 49142, 58646, 68277, 32206, 78315, 66798, 52345,\n",
       "        4712, 72026, 15040, 52765, 25812, 16126, 39866, 35370, 56937,\n",
       "       41371, 32588, 69096, 48108, 47834, 43957,  1100, 21195, 78371,\n",
       "       77865, 53923, 27947, 69446, 55841, 79164, 76233, 76098, 32188,\n",
       "       23546, 71607, 24157, 35509, 62652,  3912, 11252,  3690,  4966,\n",
       "       26317, 65063,  2488, 28337, 36657, 76271, 64883, 76212, 17861,\n",
       "       20561, 66454, 71215, 34768, 17661, 17187, 75970, 75513, 31318,\n",
       "       67356,  9045, 69326, 73719, 40787, 48511, 13398, 27130, 60353,\n",
       "        2971, 53598, 62423, 51313, 24183,  5794, 64475, 75762, 51117,\n",
       "       45266, 50015, 11790, 37718, 50507, 68365, 79386, 54140, 12582,\n",
       "       23723, 17389, 78470, 66068, 80121, 56423, 46705,  8715, 79779,\n",
       "       55911, 37717, 31800,  9211, 36557, 46227, 26200,  9838, 45422,\n",
       "       58578, 67951, 63117, 53873, 71417, 32290, 27313, 31296, 43505,\n",
       "       33308, 69545, 24232, 34968, 55212, 23757, 34716, 40390, 44615,\n",
       "       48728, 61340, 25373, 60755, 30592, 63653, 30121, 62071, 61674,\n",
       "        8358, 73304, 22703,  1725,  8194, 35141, 13117, 55713, 47122,\n",
       "       43312, 13610, 21543, 69284, 43392, 14121, 50038, 76498, 20505,\n",
       "       57137, 44510,  2506, 64049, 58520, 27252, 25966, 50130, 69764,\n",
       "       73632, 11802, 15154, 17301, 59046,  4101, 68502, 77572, 24142,\n",
       "       32012, 68378,  5564, 21416, 51494, 27212, 13172, 13250, 66018,\n",
       "       55144, 10953, 45073, 64271, 38674,  3809, 53821, 47493, 24901,\n",
       "       42145])"
      ]
     },
     "execution_count": 8,
     "metadata": {},
     "output_type": "execute_result"
    }
   ],
   "source": [
    "nsamples = 1000\n",
    "#nsamples = 5000 # if you want a larger sample\n",
    "downSampleMask = np.random.choice(range(len(ufos)-1), \n",
    "                                  nsamples, replace=False)\n",
    "downSampleMask"
   ]
  },
  {
   "cell_type": "code",
   "execution_count": 9,
   "metadata": {},
   "outputs": [],
   "source": [
    "ufosDS = ufos.loc[downSampleMask] # this is an example of a mask! (filtering)"
   ]
  },
  {
   "cell_type": "code",
   "execution_count": 10,
   "metadata": {},
   "outputs": [
    {
     "data": {
      "text/plain": [
       "1000"
      ]
     },
     "execution_count": 10,
     "metadata": {},
     "output_type": "execute_result"
    }
   ],
   "source": [
    "len(ufosDS)"
   ]
  },
  {
   "cell_type": "code",
   "execution_count": 67,
   "metadata": {},
   "outputs": [
    {
     "data": {
      "text/html": [
       "<div>\n",
       "<style scoped>\n",
       "    .dataframe tbody tr th:only-of-type {\n",
       "        vertical-align: middle;\n",
       "    }\n",
       "\n",
       "    .dataframe tbody tr th {\n",
       "        vertical-align: top;\n",
       "    }\n",
       "\n",
       "    .dataframe thead th {\n",
       "        text-align: right;\n",
       "    }\n",
       "</style>\n",
       "<table border=\"1\" class=\"dataframe\">\n",
       "  <thead>\n",
       "    <tr style=\"text-align: right;\">\n",
       "      <th></th>\n",
       "      <th>date</th>\n",
       "      <th>city</th>\n",
       "      <th>state</th>\n",
       "      <th>country</th>\n",
       "      <th>shape</th>\n",
       "      <th>duration_seconds</th>\n",
       "      <th>duration</th>\n",
       "      <th>comment</th>\n",
       "      <th>report_date</th>\n",
       "      <th>latitude</th>\n",
       "      <th>longitude</th>\n",
       "    </tr>\n",
       "  </thead>\n",
       "  <tbody>\n",
       "    <tr>\n",
       "      <th>25095</th>\n",
       "      <td>2007-01-07 21:30:00</td>\n",
       "      <td>shawnee</td>\n",
       "      <td>ok</td>\n",
       "      <td>us</td>\n",
       "      <td>light</td>\n",
       "      <td>120.0</td>\n",
       "      <td>1 1/2 minutes</td>\n",
       "      <td>Bright object with red light flashing across t...</td>\n",
       "      <td>2007-02-01</td>\n",
       "      <td>35.327222</td>\n",
       "      <td>-96.925000</td>\n",
       "    </tr>\n",
       "    <tr>\n",
       "      <th>53066</th>\n",
       "      <td>2005-06-30 04:00:00</td>\n",
       "      <td>signal mtn.</td>\n",
       "      <td>tn</td>\n",
       "      <td>NaN</td>\n",
       "      <td>unknown</td>\n",
       "      <td>600.0</td>\n",
       "      <td>5-10 minutes</td>\n",
       "      <td>It dissapeard and reapeard and somehow set off...</td>\n",
       "      <td>2007-06-12</td>\n",
       "      <td>35.122573</td>\n",
       "      <td>-85.343849</td>\n",
       "    </tr>\n",
       "    <tr>\n",
       "      <th>75405</th>\n",
       "      <td>2011-09-17 02:23:00</td>\n",
       "      <td>clayton</td>\n",
       "      <td>nc</td>\n",
       "      <td>us</td>\n",
       "      <td>unknown</td>\n",
       "      <td>30.0</td>\n",
       "      <td>30 seconds</td>\n",
       "      <td>Power out green light power out green light. l...</td>\n",
       "      <td>2011-10-10</td>\n",
       "      <td>35.650556</td>\n",
       "      <td>-78.456667</td>\n",
       "    </tr>\n",
       "    <tr>\n",
       "      <th>5968</th>\n",
       "      <td>2011-10-31 19:00:00</td>\n",
       "      <td>parma</td>\n",
       "      <td>oh</td>\n",
       "      <td>us</td>\n",
       "      <td>light</td>\n",
       "      <td>60.0</td>\n",
       "      <td>1 min</td>\n",
       "      <td>Halloween lights over Parma Ohio</td>\n",
       "      <td>2011-12-12</td>\n",
       "      <td>41.404722</td>\n",
       "      <td>-81.723056</td>\n",
       "    </tr>\n",
       "    <tr>\n",
       "      <th>968</th>\n",
       "      <td>2013-10-01 09:42:00</td>\n",
       "      <td>cobb mountain</td>\n",
       "      <td>ca</td>\n",
       "      <td>NaN</td>\n",
       "      <td>fireball</td>\n",
       "      <td>1500.0</td>\n",
       "      <td>25 minutes</td>\n",
       "      <td>Bright round orange/red fireball.</td>\n",
       "      <td>2013-10-03</td>\n",
       "      <td>38.807404</td>\n",
       "      <td>-122.740546</td>\n",
       "    </tr>\n",
       "    <tr>\n",
       "      <th>...</th>\n",
       "      <td>...</td>\n",
       "      <td>...</td>\n",
       "      <td>...</td>\n",
       "      <td>...</td>\n",
       "      <td>...</td>\n",
       "      <td>...</td>\n",
       "      <td>...</td>\n",
       "      <td>...</td>\n",
       "      <td>...</td>\n",
       "      <td>...</td>\n",
       "      <td>...</td>\n",
       "    </tr>\n",
       "    <tr>\n",
       "      <th>77238</th>\n",
       "      <td>2008-09-23 21:00:00</td>\n",
       "      <td>ronkonkoma</td>\n",
       "      <td>ny</td>\n",
       "      <td>us</td>\n",
       "      <td>flash</td>\n",
       "      <td>1800.0</td>\n",
       "      <td>30 minutes</td>\n",
       "      <td>Twinkling red/white bright star that moved eve...</td>\n",
       "      <td>2008-10-31</td>\n",
       "      <td>40.815278</td>\n",
       "      <td>-73.112778</td>\n",
       "    </tr>\n",
       "    <tr>\n",
       "      <th>79356</th>\n",
       "      <td>2005-09-05 21:00:00</td>\n",
       "      <td>arlington</td>\n",
       "      <td>tx</td>\n",
       "      <td>us</td>\n",
       "      <td>fireball</td>\n",
       "      <td>60.0</td>\n",
       "      <td>around one minute</td>\n",
       "      <td>A  distant explosive sound as the area around ...</td>\n",
       "      <td>2007-08-14</td>\n",
       "      <td>32.735556</td>\n",
       "      <td>-97.107778</td>\n",
       "    </tr>\n",
       "    <tr>\n",
       "      <th>17650</th>\n",
       "      <td>1987-12-12 21:00:00</td>\n",
       "      <td>lake ozark</td>\n",
       "      <td>mo</td>\n",
       "      <td>us</td>\n",
       "      <td>cigar</td>\n",
       "      <td>600.0</td>\n",
       "      <td>10 minutes</td>\n",
       "      <td>3 vehicles traveling NNE to SSW at 25 mph or l...</td>\n",
       "      <td>2000-01-22</td>\n",
       "      <td>38.198611</td>\n",
       "      <td>-92.638611</td>\n",
       "    </tr>\n",
       "    <tr>\n",
       "      <th>21241</th>\n",
       "      <td>2011-12-29 18:25:00</td>\n",
       "      <td>studio city</td>\n",
       "      <td>ca</td>\n",
       "      <td>us</td>\n",
       "      <td>triangle</td>\n",
       "      <td>30.0</td>\n",
       "      <td>1:30 sec</td>\n",
       "      <td>3 Orange round spheres&amp;#44 with hot white look...</td>\n",
       "      <td>2012-01-12</td>\n",
       "      <td>34.148611</td>\n",
       "      <td>-118.395556</td>\n",
       "    </tr>\n",
       "    <tr>\n",
       "      <th>51887</th>\n",
       "      <td>2002-06-26 13:00:00</td>\n",
       "      <td>mercury</td>\n",
       "      <td>nv</td>\n",
       "      <td>us</td>\n",
       "      <td>other</td>\n",
       "      <td>1200.0</td>\n",
       "      <td>20 minutes</td>\n",
       "      <td>High power broadband radio transmission observ...</td>\n",
       "      <td>2002-07-01</td>\n",
       "      <td>36.660556</td>\n",
       "      <td>-115.993611</td>\n",
       "    </tr>\n",
       "  </tbody>\n",
       "</table>\n",
       "<p>1000 rows × 11 columns</p>\n",
       "</div>"
      ],
      "text/plain": [
       "                     date           city state country     shape  \\\n",
       "25095 2007-01-07 21:30:00        shawnee    ok      us     light   \n",
       "53066 2005-06-30 04:00:00    signal mtn.    tn     NaN   unknown   \n",
       "75405 2011-09-17 02:23:00        clayton    nc      us   unknown   \n",
       "5968  2011-10-31 19:00:00          parma    oh      us     light   \n",
       "968   2013-10-01 09:42:00  cobb mountain    ca     NaN  fireball   \n",
       "...                   ...            ...   ...     ...       ...   \n",
       "77238 2008-09-23 21:00:00     ronkonkoma    ny      us     flash   \n",
       "79356 2005-09-05 21:00:00      arlington    tx      us  fireball   \n",
       "17650 1987-12-12 21:00:00     lake ozark    mo      us     cigar   \n",
       "21241 2011-12-29 18:25:00    studio city    ca      us  triangle   \n",
       "51887 2002-06-26 13:00:00        mercury    nv      us     other   \n",
       "\n",
       "       duration_seconds           duration  \\\n",
       "25095             120.0      1 1/2 minutes   \n",
       "53066             600.0       5-10 minutes   \n",
       "75405              30.0         30 seconds   \n",
       "5968               60.0              1 min   \n",
       "968              1500.0         25 minutes   \n",
       "...                 ...                ...   \n",
       "77238            1800.0         30 minutes   \n",
       "79356              60.0  around one minute   \n",
       "17650             600.0         10 minutes   \n",
       "21241              30.0           1:30 sec   \n",
       "51887            1200.0         20 minutes   \n",
       "\n",
       "                                                 comment report_date  \\\n",
       "25095  Bright object with red light flashing across t...  2007-02-01   \n",
       "53066  It dissapeard and reapeard and somehow set off...  2007-06-12   \n",
       "75405  Power out green light power out green light. l...  2011-10-10   \n",
       "5968                    Halloween lights over Parma Ohio  2011-12-12   \n",
       "968                    Bright round orange/red fireball.  2013-10-03   \n",
       "...                                                  ...         ...   \n",
       "77238  Twinkling red/white bright star that moved eve...  2008-10-31   \n",
       "79356  A  distant explosive sound as the area around ...  2007-08-14   \n",
       "17650  3 vehicles traveling NNE to SSW at 25 mph or l...  2000-01-22   \n",
       "21241  3 Orange round spheres&#44 with hot white look...  2012-01-12   \n",
       "51887  High power broadband radio transmission observ...  2002-07-01   \n",
       "\n",
       "        latitude   longitude  \n",
       "25095  35.327222  -96.925000  \n",
       "53066  35.122573  -85.343849  \n",
       "75405  35.650556  -78.456667  \n",
       "5968   41.404722  -81.723056  \n",
       "968    38.807404 -122.740546  \n",
       "...          ...         ...  \n",
       "77238  40.815278  -73.112778  \n",
       "79356  32.735556  -97.107778  \n",
       "17650  38.198611  -92.638611  \n",
       "21241  34.148611 -118.395556  \n",
       "51887  36.660556 -115.993611  \n",
       "\n",
       "[1000 rows x 11 columns]"
      ]
     },
     "execution_count": 67,
     "metadata": {},
     "output_type": "execute_result"
    }
   ],
   "source": [
    "ufosDS"
   ]
  },
  {
   "cell_type": "markdown",
   "metadata": {},
   "source": [
    "Super quick scatter plot of this data:"
   ]
  },
  {
   "cell_type": "code",
   "execution_count": 68,
   "metadata": {},
   "outputs": [
    {
     "data": {
      "application/vnd.jupyter.widget-view+json": {
       "model_id": "336045342f034971af298f604f521565",
       "version_major": 2,
       "version_minor": 0
      },
      "text/plain": [
       "Figure(axes=[Axis(label='Longitude', scale=LinearScale()), Axis(label='Latitude', orientation='vertical', scal…"
      ]
     },
     "metadata": {},
     "output_type": "display_data"
    }
   ],
   "source": [
    "# (data will be the long/lat columsn)\n",
    "\n",
    "# 2. scales - linear scales\n",
    "x_sc = bqplot.LinearScale()\n",
    "y_sc = bqplot.LinearScale()\n",
    "\n",
    "# 3. axis\n",
    "ax_x = bqplot.Axis(scale = x_sc, label='Longitude')\n",
    "ax_y = bqplot.Axis(scale = y_sc, orientation='vertical', label='Latitude')\n",
    "\n",
    "# 4. Marks\n",
    "scatters = bqplot.Scatter(x = ufosDS['longitude'], y = ufosDS['latitude'], \n",
    "                         scales={'x':x_sc, 'y':y_sc})\n",
    "\n",
    "# figure!\n",
    "fig = bqplot.Figure(marks=[scatters], axes=[ax_x, ax_y])\n",
    "fig"
   ]
  },
  {
   "cell_type": "code",
   "execution_count": 69,
   "metadata": {},
   "outputs": [
    {
     "data": {
      "application/vnd.jupyter.widget-view+json": {
       "model_id": "9e07c5f70bd74131a3fef2429377aadf",
       "version_major": 2,
       "version_minor": 0
      },
      "text/plain": [
       "Figure(axes=[Axis(label='Longitude', scale=LinearScale()), Axis(label='Latitude', orientation='vertical', scal…"
      ]
     },
     "metadata": {},
     "output_type": "display_data"
    }
   ],
   "source": [
    "# 2. scales - linear scales\n",
    "x_sc = bqplot.LinearScale()\n",
    "y_sc = bqplot.LinearScale()\n",
    "c_sc = bqplot.ColorScale()\n",
    "\n",
    "# 3. axis\n",
    "ax_x = bqplot.Axis(scale = x_sc, label='Longitude')\n",
    "ax_y = bqplot.Axis(scale = y_sc, orientation='vertical', label='Latitude')\n",
    "ax_c = bqplot.ColorAxis(scale = c_sc, label='Duration in sec', orientation='vertical', side='right')\n",
    "\n",
    "# 4. Marks\n",
    "scatters = bqplot.Scatter(x = ufosDS['longitude'], y = ufosDS['latitude'], color=ufosDS['duration_seconds'],\n",
    "                         scales={'x':x_sc, 'y':y_sc, 'color':c_sc})\n",
    "\n",
    "# figure!\n",
    "fig = bqplot.Figure(marks=[scatters], axes=[ax_x, ax_y, ax_c])\n",
    "fig"
   ]
  },
  {
   "cell_type": "code",
   "execution_count": 11,
   "metadata": {},
   "outputs": [
    {
     "data": {
      "text/plain": [
       "(1.0, 25200.0)"
      ]
     },
     "execution_count": 11,
     "metadata": {},
     "output_type": "execute_result"
    }
   ],
   "source": [
    "ufosDS['duration_seconds'].min(), ufosDS['duration_seconds'].max()"
   ]
  },
  {
   "cell_type": "code",
   "execution_count": 12,
   "metadata": {},
   "outputs": [
    {
     "data": {
      "application/vnd.jupyter.widget-view+json": {
       "model_id": "02267916005848cca5d24572c1f96f8e",
       "version_major": 2,
       "version_minor": 0
      },
      "text/plain": [
       "Figure(axes=[Axis(label='Longitude', scale=LinearScale()), Axis(label='Latitude', orientation='vertical', scal…"
      ]
     },
     "metadata": {},
     "output_type": "display_data"
    }
   ],
   "source": [
    "# 2. scales - linear scales\n",
    "x_sc = bqplot.LinearScale()\n",
    "y_sc = bqplot.LinearScale()\n",
    "c_sc = bqplot.ColorScale()\n",
    "\n",
    "# 3. axis\n",
    "ax_x = bqplot.Axis(scale = x_sc, label='Longitude')\n",
    "ax_y = bqplot.Axis(scale = y_sc, orientation='vertical', label='Latitude')\n",
    "ax_c = bqplot.ColorAxis(scale = c_sc, label='log10(sec)', orientation='vertical', side='right')\n",
    "\n",
    "# 4. Marks\n",
    "scatters = bqplot.Scatter(x = ufosDS['longitude'], y = ufosDS['latitude'], color=np.log10(ufosDS['duration_seconds']),\n",
    "                         scales={'x':x_sc, 'y':y_sc, 'color':c_sc})\n",
    "\n",
    "# figure!\n",
    "fig = bqplot.Figure(marks=[scatters], axes=[ax_x, ax_y, ax_c])\n",
    "fig"
   ]
  },
  {
   "cell_type": "markdown",
   "metadata": {},
   "source": [
    "A quick trip back to matplotlib!"
   ]
  },
  {
   "cell_type": "code",
   "execution_count": 13,
   "metadata": {},
   "outputs": [
    {
     "data": {
      "image/png": "[encoded data removed]",
      "text/plain": [
       "<Figure size 432x288 with 2 Axes>"
      ]
     },
     "metadata": {
      "needs_background": "light"
     },
     "output_type": "display_data"
    }
   ],
   "source": [
    "plt.hist2d(ufos['longitude'], ufos['latitude'], weights=ufos['duration_seconds'], \n",
    "          bins=20, cmap='RdPu')\n",
    "cb = plt.colorbar()\n",
    "cb.set_label('duration sec')"
   ]
  },
  {
   "cell_type": "code",
   "execution_count": 14,
   "metadata": {},
   "outputs": [
    {
     "data": {
      "image/png": "[encoded data removed]",
      "text/plain": [
       "<Figure size 432x288 with 2 Axes>"
      ]
     },
     "metadata": {
      "needs_background": "light"
     },
     "output_type": "display_data"
    }
   ],
   "source": [
    "plt.hist2d(ufos['longitude'], ufos['latitude'], weights=np.log10(ufos['duration_seconds']), # doing the binning with logs\n",
    "          bins=20, cmap='RdPu')\n",
    "cb = plt.colorbar()\n",
    "cb.set_label('log10(sec)')"
   ]
  },
  {
   "cell_type": "code",
   "execution_count": 15,
   "metadata": {},
   "outputs": [],
   "source": [
    "import matplotlib.colors as mpl_colors"
   ]
  },
  {
   "cell_type": "code",
   "execution_count": 75,
   "metadata": {},
   "outputs": [],
   "source": [
    "mpl_colors.SymLogNorm?"
   ]
  },
  {
   "cell_type": "code",
   "execution_count": 16,
   "metadata": {},
   "outputs": [
    {
     "name": "stderr",
     "output_type": "stream",
     "text": [
      "C:\\Users\\rohit\\AppData\\Roaming\\Python\\Python37\\site-packages\\ipykernel_launcher.py:2: MatplotlibDeprecationWarning: default base may change from np.e to 10.  To suppress this warning specify the base keyword argument.\n",
      "  \n"
     ]
    },
    {
     "data": {
      "image/png": "[encoded data removed]",
      "text/plain": [
       "<Figure size 432x288 with 2 Axes>"
      ]
     },
     "metadata": {
      "needs_background": "light"
     },
     "output_type": "display_data"
    }
   ],
   "source": [
    "plt.hist2d(ufos['longitude'], ufos['latitude'], weights=ufos['duration_seconds'], \n",
    "          bins=20, cmap='RdPu', norm=mpl_colors.SymLogNorm(10)) # a little reminder about norm of colorspace\n",
    "cb = plt.colorbar() # want colorbar to be in log-space\n",
    "cb.set_label('duration sec')"
   ]
  },
  {
   "cell_type": "markdown",
   "metadata": {},
   "source": [
    "Here: histogram the data \"by hand\" and feed this into bqplot."
   ]
  },
  {
   "cell_type": "code",
   "execution_count": 17,
   "metadata": {},
   "outputs": [],
   "source": [
    "nlong = 20\n",
    "nlat = 20\n",
    "\n",
    "hist2d, long_edges, lat_edges = np.histogram2d(ufos['longitude'], ufos['latitude'], \n",
    "                                              weights=ufos['duration_seconds'], \n",
    "                                              bins=[nlong, nlat])"
   ]
  },
  {
   "cell_type": "code",
   "execution_count": 18,
   "metadata": {},
   "outputs": [
    {
     "data": {
      "text/plain": [
       "(20, 20)"
      ]
     },
     "execution_count": 18,
     "metadata": {},
     "output_type": "execute_result"
    }
   ],
   "source": [
    "hist2d.shape"
   ]
  },
  {
   "cell_type": "code",
   "execution_count": 19,
   "metadata": {},
   "outputs": [
    {
     "data": {
      "text/plain": [
       "(0.0, 153348519.88)"
      ]
     },
     "execution_count": 19,
     "metadata": {},
     "output_type": "execute_result"
    }
   ],
   "source": [
    "hist2d.min(), hist2d.max()"
   ]
  },
  {
   "cell_type": "markdown",
   "metadata": {},
   "source": [
    "Because I already have gridded data, the matplotlib function I want to use is imshow instead of hist2d:"
   ]
  },
  {
   "cell_type": "code",
   "execution_count": 20,
   "metadata": {},
   "outputs": [
    {
     "name": "stderr",
     "output_type": "stream",
     "text": [
      "C:\\Users\\rohit\\AppData\\Roaming\\Python\\Python37\\site-packages\\ipykernel_launcher.py:1: MatplotlibDeprecationWarning: default base may change from np.e to 10.  To suppress this warning specify the base keyword argument.\n",
      "  \"\"\"Entry point for launching an IPython kernel.\n"
     ]
    },
    {
     "data": {
      "text/plain": [
       "<matplotlib.image.AxesImage at 0x22126491808>"
      ]
     },
     "execution_count": 20,
     "metadata": {},
     "output_type": "execute_result"
    },
    {
     "data": {
      "image/png": "[encoded data removed]",
      "text/plain": [
       "<Figure size 432x288 with 1 Axes>"
      ]
     },
     "metadata": {
      "needs_background": "light"
     },
     "output_type": "display_data"
    }
   ],
   "source": [
    "plt.imshow(hist2d, cmap='RdPu', norm=mpl_colors.SymLogNorm(10))"
   ]
  },
  {
   "cell_type": "code",
   "execution_count": 21,
   "metadata": {},
   "outputs": [
    {
     "name": "stderr",
     "output_type": "stream",
     "text": [
      "C:\\Users\\rohit\\AppData\\Roaming\\Python\\Python37\\site-packages\\ipykernel_launcher.py:1: MatplotlibDeprecationWarning: default base may change from np.e to 10.  To suppress this warning specify the base keyword argument.\n",
      "  \"\"\"Entry point for launching an IPython kernel.\n"
     ]
    },
    {
     "data": {
      "text/plain": [
       "<matplotlib.image.AxesImage at 0x22125a5c848>"
      ]
     },
     "execution_count": 21,
     "metadata": {},
     "output_type": "execute_result"
    },
    {
     "data": {
      "image/png": "[encoded data removed]",
      "text/plain": [
       "<Figure size 432x288 with 1 Axes>"
      ]
     },
     "metadata": {
      "needs_background": "light"
     },
     "output_type": "display_data"
    }
   ],
   "source": [
    "plt.imshow(hist2d.T, cmap='RdPu', norm=mpl_colors.SymLogNorm(10))"
   ]
  },
  {
   "cell_type": "markdown",
   "metadata": {},
   "source": [
    "A little weirdness -- bqplot actually expects this transposed (upside down) dataset!"
   ]
  },
  {
   "cell_type": "code",
   "execution_count": 22,
   "metadata": {},
   "outputs": [
    {
     "data": {
      "text/plain": [
       "(20, 20)"
      ]
     },
     "execution_count": 22,
     "metadata": {},
     "output_type": "execute_result"
    }
   ],
   "source": [
    "hist2d.shape"
   ]
  },
  {
   "cell_type": "code",
   "execution_count": 23,
   "metadata": {},
   "outputs": [
    {
     "data": {
      "text/plain": [
       "(21,)"
      ]
     },
     "execution_count": 23,
     "metadata": {},
     "output_type": "execute_result"
    }
   ],
   "source": [
    "long_edges.shape"
   ]
  },
  {
   "cell_type": "code",
   "execution_count": 24,
   "metadata": {},
   "outputs": [
    {
     "data": {
      "text/plain": [
       "(21,)"
      ]
     },
     "execution_count": 24,
     "metadata": {},
     "output_type": "execute_result"
    }
   ],
   "source": [
    "lat_edges.shape"
   ]
  },
  {
   "cell_type": "code",
   "execution_count": 25,
   "metadata": {},
   "outputs": [],
   "source": [
    "long_centers = (long_edges[:-1] + long_edges[1:])/2 # 30% on this is totally fine!"
   ]
  },
  {
   "cell_type": "code",
   "execution_count": 26,
   "metadata": {},
   "outputs": [
    {
     "data": {
      "text/plain": [
       "array([-176.6580556 , -158.90305782, -141.14806004, -123.39306226,\n",
       "       -105.63806448,  -87.8830667 ,  -70.12806892,  -52.37307114,\n",
       "        -34.61807336,  -16.86307558,    0.8919222 ,   18.64691998,\n",
       "         36.40191776,   54.15691554,   71.91191332,   89.6669111 ,\n",
       "        107.42190888,  125.17690666,  142.93190444,  160.68690222,\n",
       "        178.4419    ])"
      ]
     },
     "execution_count": 26,
     "metadata": {},
     "output_type": "execute_result"
    }
   ],
   "source": [
    "long_edges"
   ]
  },
  {
   "cell_type": "code",
   "execution_count": 27,
   "metadata": {},
   "outputs": [
    {
     "data": {
      "text/plain": [
       "array([-167.78055671, -150.02555893, -132.27056115, -114.51556337,\n",
       "        -96.76056559,  -79.00556781,  -61.25057003,  -43.49557225,\n",
       "        -25.74057447,   -7.98557669,    9.76942109,   27.52441887,\n",
       "         45.27941665,   63.03441443,   80.78941221,   98.54440999,\n",
       "        116.29940777,  134.05440555,  151.80940333,  169.56440111])"
      ]
     },
     "execution_count": 27,
     "metadata": {},
     "output_type": "execute_result"
    }
   ],
   "source": [
    "long_centers"
   ]
  },
  {
   "cell_type": "code",
   "execution_count": 28,
   "metadata": {},
   "outputs": [],
   "source": [
    "# specify the bins for each lat & long\n",
    "long_bins = np.linspace(-150, 150, nlong+1)"
   ]
  },
  {
   "cell_type": "code",
   "execution_count": 29,
   "metadata": {},
   "outputs": [
    {
     "data": {
      "text/plain": [
       "array([-150., -135., -120., -105.,  -90.,  -75.,  -60.,  -45.,  -30.,\n",
       "        -15.,    0.,   15.,   30.,   45.,   60.,   75.,   90.,  105.,\n",
       "        120.,  135.,  150.])"
      ]
     },
     "execution_count": 29,
     "metadata": {},
     "output_type": "execute_result"
    }
   ],
   "source": [
    "long_bins"
   ]
  },
  {
   "cell_type": "code",
   "execution_count": 30,
   "metadata": {},
   "outputs": [],
   "source": [
    "lat_bins = np.linspace(-40, 70, nlat+1)"
   ]
  },
  {
   "cell_type": "code",
   "execution_count": 31,
   "metadata": {},
   "outputs": [
    {
     "data": {
      "text/plain": [
       "array([-40. , -34.5, -29. , -23.5, -18. , -12.5,  -7. ,  -1.5,   4. ,\n",
       "         9.5,  15. ,  20.5,  26. ,  31.5,  37. ,  42.5,  48. ,  53.5,\n",
       "        59. ,  64.5,  70. ])"
      ]
     },
     "execution_count": 31,
     "metadata": {},
     "output_type": "execute_result"
    }
   ],
   "source": [
    "lat_bins"
   ]
  },
  {
   "cell_type": "code",
   "execution_count": 32,
   "metadata": {},
   "outputs": [],
   "source": [
    "# use these bins to make my histogram\n",
    "hist2d, long_edges, lat_edges = np.histogram2d(ufos['longitude'], ufos['latitude'], \n",
    "                                              weights=ufos['duration_seconds'],\n",
    "                                              bins=[long_bins, lat_bins])"
   ]
  },
  {
   "cell_type": "code",
   "execution_count": 33,
   "metadata": {},
   "outputs": [
    {
     "data": {
      "text/plain": [
       "array([-150., -135., -120., -105.,  -90.,  -75.,  -60.,  -45.,  -30.,\n",
       "        -15.,    0.,   15.,   30.,   45.,   60.,   75.,   90.,  105.,\n",
       "        120.,  135.,  150.])"
      ]
     },
     "execution_count": 33,
     "metadata": {},
     "output_type": "execute_result"
    }
   ],
   "source": [
    "long_edges"
   ]
  },
  {
   "cell_type": "code",
   "execution_count": 34,
   "metadata": {},
   "outputs": [
    {
     "data": {
      "text/plain": [
       "array([-87.5 , -77.25, -67.  , -56.75, -46.5 , -36.25, -26.  , -15.75,\n",
       "        -5.5 ,   4.75,  15.  ,  25.25,  35.5 ,  45.75,  56.  ,  66.25,\n",
       "        76.5 ,  86.75,  97.  , 107.25])"
      ]
     },
     "execution_count": 34,
     "metadata": {},
     "output_type": "execute_result"
    }
   ],
   "source": [
    "long_centers = (long_edges[:-1] + long_edges[1:])/2 # 30% on this is totally fine!\n",
    "lat_centers = (lat_edges[:-1] + long_edges[1:])/2\n",
    "lat_centers\n"
   ]
  },
  {
   "cell_type": "code",
   "execution_count": 35,
   "metadata": {},
   "outputs": [],
   "source": [
    "hist2d = hist2d.T"
   ]
  },
  {
   "cell_type": "code",
   "execution_count": 36,
   "metadata": {},
   "outputs": [
    {
     "data": {
      "text/plain": [
       "(20, 20)"
      ]
     },
     "execution_count": 36,
     "metadata": {},
     "output_type": "execute_result"
    }
   ],
   "source": [
    "hist2d.shape"
   ]
  },
  {
   "cell_type": "code",
   "execution_count": 37,
   "metadata": {},
   "outputs": [
    {
     "data": {
      "text/plain": [
       "(0.0, 125056847.51)"
      ]
     },
     "execution_count": 37,
     "metadata": {},
     "output_type": "execute_result"
    }
   ],
   "source": [
    "hist2d.min(), hist2d.max()"
   ]
  },
  {
   "cell_type": "code",
   "execution_count": 38,
   "metadata": {},
   "outputs": [
    {
     "name": "stderr",
     "output_type": "stream",
     "text": [
      "C:\\Users\\rohit\\AppData\\Roaming\\Python\\Python37\\site-packages\\ipykernel_launcher.py:1: RuntimeWarning: divide by zero encountered in log10\n",
      "  \"\"\"Entry point for launching an IPython kernel.\n"
     ]
    },
    {
     "data": {
      "text/plain": [
       "-inf"
      ]
     },
     "execution_count": 38,
     "metadata": {},
     "output_type": "execute_result"
    }
   ],
   "source": [
    "np.log10(hist2d.min())"
   ]
  },
  {
   "cell_type": "code",
   "execution_count": 39,
   "metadata": {},
   "outputs": [],
   "source": [
    "# we are going to be a little tricky!\n",
    "hist2d[hist2d <= 0] = np.nan # filtering operation"
   ]
  },
  {
   "cell_type": "code",
   "execution_count": 40,
   "metadata": {},
   "outputs": [],
   "source": [
    "hist2dlog = np.log10(hist2d)"
   ]
  },
  {
   "cell_type": "markdown",
   "metadata": {},
   "source": [
    "It turns out that even though we'll have NaN's in our dataset, bqplot will plot this as a black background in a GridHeatMap mark!"
   ]
  },
  {
   "cell_type": "code",
   "execution_count": 41,
   "metadata": {},
   "outputs": [
    {
     "data": {
      "text/plain": [
       "array([[       nan,        nan,        nan,        nan,        nan,\n",
       "        3.15836249, 4.95777963,        nan,        nan,        nan,\n",
       "               nan,        nan,        nan,        nan,        nan,\n",
       "               nan,        nan, 2.78887512,        nan, 5.1441975 ],\n",
       "       [       nan,        nan,        nan,        nan,        nan,\n",
       "        4.21512208, 3.06818586,        nan,        nan,        nan,\n",
       "               nan, 4.45993502, 4.45336421,        nan,        nan,\n",
       "        3.78283081,        nan, 4.88131902, 3.06445799, 4.02816442],\n",
       "       [       nan,        nan, 0.        ,        nan,        nan,\n",
       "        3.8920946 , 4.78334607,        nan,        nan,        nan,\n",
       "               nan, 4.42499591, 3.34635297,        nan,        nan,\n",
       "               nan,        nan, 3.20139712, 4.39578055, 3.17897695],\n",
       "       [       nan,        nan,        nan,        nan,        nan,\n",
       "        3.68124124, 4.00121433, 4.08278537,        nan,        nan,\n",
       "        2.07918125, 3.78426058,        nan, 3.04727487,        nan,\n",
       "               nan,        nan, 2.25527251, 1.47712125, 6.09868006],\n",
       "       [1.17609126,        nan,        nan,        nan,        nan,\n",
       "        4.5108398 , 4.57847875,        nan, 4.44502787, 2.95424251,\n",
       "               nan, 2.43136376, 3.37474835,        nan,        nan,\n",
       "               nan,        nan,        nan,        nan, 4.13618133],\n",
       "       [       nan, 4.94357365,        nan,        nan, 2.07918125,\n",
       "        2.47712125,        nan, 4.29863478,        nan,        nan,\n",
       "               nan,        nan,        nan,        nan,        nan,\n",
       "               nan,        nan, 2.15228834, 3.13576851,        nan],\n",
       "       [       nan,        nan,        nan,        nan, 6.80020229,\n",
       "        2.77815125, 3.28780173, 2.47712125,        nan,        nan,\n",
       "               nan, 2.07918125, 0.60205999,        nan,        nan,\n",
       "               nan,        nan, 2.98900462,        nan,        nan],\n",
       "       [       nan,        nan,        nan, 1.47712125, 4.29479678,\n",
       "               nan,        nan,        nan,        nan,        nan,\n",
       "        2.8920946 ,        nan, 4.11291654,        nan, 1.95424251,\n",
       "               nan, 4.89413876, 4.20153367,        nan,        nan],\n",
       "       [       nan,        nan,        nan,        nan, 3.95218682,\n",
       "        3.4181355 , 3.56229286,        nan,        nan, 0.69897   ,\n",
       "        3.74429298,        nan, 3.43854235,        nan, 3.25527251,\n",
       "        4.32221929, 3.85642677, 3.61436984, 3.93308216,        nan],\n",
       "       [       nan,        nan,        nan, 3.54157924, 3.97342252,\n",
       "        6.09410866, 3.48713838,        nan, 3.59769519,        nan,\n",
       "               nan,        nan,        nan,        nan, 2.77815125,\n",
       "        4.37307759, 4.32376758, 4.31207152, 6.72498892, 2.95424251],\n",
       "       [       nan,        nan,        nan, 4.80700706, 4.50877205,\n",
       "        5.8212534 ,        nan,        nan,        nan,        nan,\n",
       "               nan,        nan,        nan, 2.07918125, 5.56585254,\n",
       "        4.58221113, 3.81954394, 3.38021124, 3.67669361,        nan],\n",
       "       [       nan,        nan, 5.82237014, 5.46428234, 5.61318957,\n",
       "        2.86033801,        nan,        nan,        nan,        nan,\n",
       "               nan,        nan, 3.64738297, 3.9259306 , 3.75929003,\n",
       "        4.59636614, 3.87203967, 4.16811429, 2.57054294,        nan],\n",
       "       [       nan,        nan, 4.98358795, 7.07945235, 7.75803979,\n",
       "               nan,        nan,        nan, 3.79316153, 2.38021124,\n",
       "               nan, 2.07918125, 3.61783875, 3.60873992, 3.45438747,\n",
       "        6.43354711, 2.81291336, 3.38021124, 4.17609126,        nan],\n",
       "       [       nan, 5.6459806 , 7.67779189, 7.92967892, 7.44927561,\n",
       "        3.86952506,        nan, 3.26245109, 2.32221929, 4.11270552,\n",
       "        3.70217195, 3.85545858, 5.84598124, 6.80171042, 4.05200098,\n",
       "        1.84509804, 2.07918125, 2.25527251, 4.16574868, 4.14141842],\n",
       "       [       nan, 7.02773172, 6.83534037, 7.13447879, 7.95660564,\n",
       "        7.48614247,        nan,        nan, 1.96848295, 4.67152458,\n",
       "        4.77860702, 6.42892407, 4.2726537 , 2.6946052 , 3.99694925,\n",
       "               nan,        nan, 4.35696231, 3.37511468, 3.00860017],\n",
       "       [       nan, 6.72644508, 7.73800979, 6.5769794 , 7.94501795,\n",
       "        6.68471895, 4.45995008,        nan,        nan, 3.30211438,\n",
       "        4.9450942 , 6.97868589, 3.90200289,        nan, 3.8573325 ,\n",
       "        3.51851394,        nan, 2.62324929, 2.07918125,        nan],\n",
       "       [       nan, 6.51420351, 6.04979947, 5.48008172, 5.03438377,\n",
       "        4.06903876, 4.11918988,        nan,        nan, 8.09710748,\n",
       "        6.50676726, 4.43885866, 2.98317507,        nan, 1.11394335,\n",
       "               nan,        nan,        nan, 1.14612804, 1.79239169],\n",
       "       [2.8573325 , 5.75806821, 5.57698368, 5.67423174, 3.7355989 ,\n",
       "               nan,        nan,        nan,        nan, 5.99512014,\n",
       "        4.6471824 , 4.24839019, 2.66745295, 3.07918125,        nan,\n",
       "               nan,        nan,        nan,        nan,        nan],\n",
       "       [5.4029162 , 4.31264272, 3.61140464, 2.66745295, 1.47712125,\n",
       "               nan, 2.47712125,        nan, 3.8972421 , 2.25527251,\n",
       "        4.2566456 , 4.24353435,        nan,        nan,        nan,\n",
       "               nan,        nan,        nan,        nan,        nan],\n",
       "       [5.82882675, 4.3544926 ,        nan,        nan,        nan,\n",
       "               nan,        nan,        nan, 3.77815125,        nan,\n",
       "        3.44090908, 3.29841638,        nan,        nan,        nan,\n",
       "               nan,        nan,        nan,        nan,        nan]])"
      ]
     },
     "execution_count": 41,
     "metadata": {},
     "output_type": "execute_result"
    }
   ],
   "source": [
    "#hist2dlog\n",
    "hist2dlog"
   ]
  },
  {
   "cell_type": "code",
   "execution_count": 42,
   "metadata": {},
   "outputs": [],
   "source": [
    "# 1. Data -- WE DID A LOT HERE!!\n",
    "# having to do a lot of pre-viz data formatting\n",
    "\n",
    "# 2. Scales\n",
    "col_sc = bqplot.ColorScale(scheme=\"RdPu\", min=np.nanmin(hist2dlog), max=np.nanmax(hist2dlog)) \n",
    "x_sc = bqplot.LinearScale() # numerical, long\n",
    "y_sc = bqplot.LinearScale() # numerical, lat"
   ]
  },
  {
   "cell_type": "code",
   "execution_count": 43,
   "metadata": {},
   "outputs": [],
   "source": [
    "# 3. Axis -- for colors, the axis is a colorbar!\n",
    "ax_col = bqplot.ColorAxis(scale = col_sc, orientation='vertical', side='right') \n",
    "ax_x = bqplot.Axis(scale = x_sc, label='Longitude') # same x/y ax we had before\n",
    "ax_y = bqplot.Axis(scale = y_sc, orientation='vertical', label='Latitude')\n"
   ]
  },
  {
   "cell_type": "code",
   "execution_count": 52,
   "metadata": {},
   "outputs": [],
   "source": [
    "# 4. Mark -- heatmap\n",
    "heat_map = bqplot.GridHeatMap(color = hist2dlog, \n",
    "                              row = lat_centers,\n",
    "                              column = long_centers,\n",
    "                              scales = {'color':col_sc, 'row':y_sc, 'column':x_sc},\n",
    "                             interactions={'click':'select'},\n",
    "                             anchor_style={'fill':'blue'},\n",
    "                             selected_style={'opacity':1.0},\n",
    "                             unselected_style={'opacity':0.8})\n"
   ]
  },
  {
   "cell_type": "code",
   "execution_count": 53,
   "metadata": {},
   "outputs": [
    {
     "data": {
      "application/vnd.jupyter.widget-view+json": {
       "model_id": "b03cde1379564273a9c59f15c8826cdd",
       "version_major": 2,
       "version_minor": 0
      },
      "text/plain": [
       "Figure(axes=[ColorAxis(orientation='vertical', scale=ColorScale(max=8.09710747658943, min=0.0, scheme='RdPu'),…"
      ]
     },
     "metadata": {},
     "output_type": "display_data"
    }
   ],
   "source": [
    "# figure!\n",
    "fig = bqplot.Figure(marks=[heat_map], axes=[ax_col, ax_y, ax_x])\n",
    "fig"
   ]
  },
  {
   "cell_type": "code",
   "execution_count": 44,
   "metadata": {},
   "outputs": [
    {
     "data": {
      "application/vnd.jupyter.widget-view+json": {
       "model_id": "eafda15fa61641e28f4bb8edc9b98970",
       "version_major": 2,
       "version_minor": 0
      },
      "text/plain": [
       "VBox(children=(Label(value=''), Figure(axes=[ColorAxis(orientation='vertical', scale=ColorScale(max=8.09710747…"
      ]
     },
     "metadata": {},
     "output_type": "display_data"
    }
   ],
   "source": [
    "# 1. Data -- WE DID A LOT HERE!!\n",
    "# having to do a lot of pre-viz data formatting\n",
    "\n",
    "# 2. Scales\n",
    "col_sc = bqplot.ColorScale(scheme=\"RdPu\", min=np.nanmin(hist2dlog), max=np.nanmax(hist2dlog)) \n",
    "x_sc = bqplot.LinearScale() # numerical, long\n",
    "y_sc = bqplot.LinearScale() # numerical, lat\n",
    "\n",
    "# 3. Axis -- for colors, the axis is a colorbar!\n",
    "ax_col = bqplot.ColorAxis(scale = col_sc, orientation='vertical', side='right') \n",
    "ax_x = bqplot.Axis(scale = x_sc, label='Longitude') # same x/y ax we had before\n",
    "ax_y = bqplot.Axis(scale = y_sc, orientation='vertical', label='Latitude')\n",
    "\n",
    "# 4. Mark -- heatmap\n",
    "heat_map = bqplot.GridHeatMap(color = hist2dlog, \n",
    "                              row = lat_centers,\n",
    "                              column = long_centers,\n",
    "                              scales = {'color':col_sc, 'row':y_sc, 'column':x_sc},\n",
    "                             interactions={'click':'select'},\n",
    "                             anchor_style={'fill':'blue'},\n",
    "                             selected_style={'opacity':1.0},\n",
    "                             unselected_style={'opacity':0.8})\n",
    "\n",
    "# 5. interactivity\n",
    "mySelectedLabel = ipywidgets.Label()\n",
    "def on_selected(change): # already modified for our 3d data\n",
    "    if len(change['owner'].selected) == 1:\n",
    "        i, j = change['owner'].selected[0]\n",
    "        v = hist2dlog[i,j] # this is a 2d array!!\n",
    "        mySelectedLabel.value = 'Weighted binning (log(duration in sec)) = ' + str(v)\n",
    "        ##### Add in what changes for our histogram\n",
    "        ####hist.sample = data3d[i,j]\n",
    "# make sure we are observing for changes in our heatmap\n",
    "heat_map.observe(on_selected, 'selected')\n",
    "        \n",
    "# figure!\n",
    "fig = bqplot.Figure(marks=[heat_map], axes=[ax_col, ax_y, ax_x])\n",
    "#fig\n",
    "\n",
    "# dashboard with my label\n",
    "myDashboard = ipywidgets.VBox([mySelectedLabel, fig])\n",
    "myDashboard"
   ]
  },
  {
   "cell_type": "code",
   "execution_count": 100,
   "metadata": {},
   "outputs": [
    {
     "data": {
      "text/html": [
       "<div>\n",
       "<style scoped>\n",
       "    .dataframe tbody tr th:only-of-type {\n",
       "        vertical-align: middle;\n",
       "    }\n",
       "\n",
       "    .dataframe tbody tr th {\n",
       "        vertical-align: top;\n",
       "    }\n",
       "\n",
       "    .dataframe thead th {\n",
       "        text-align: right;\n",
       "    }\n",
       "</style>\n",
       "<table border=\"1\" class=\"dataframe\">\n",
       "  <thead>\n",
       "    <tr style=\"text-align: right;\">\n",
       "      <th></th>\n",
       "      <th>date</th>\n",
       "      <th>city</th>\n",
       "      <th>state</th>\n",
       "      <th>country</th>\n",
       "      <th>shape</th>\n",
       "      <th>duration_seconds</th>\n",
       "      <th>duration</th>\n",
       "      <th>comment</th>\n",
       "      <th>report_date</th>\n",
       "      <th>latitude</th>\n",
       "      <th>longitude</th>\n",
       "    </tr>\n",
       "  </thead>\n",
       "  <tbody>\n",
       "    <tr>\n",
       "      <th>0</th>\n",
       "      <td>1949-10-10 20:30:00</td>\n",
       "      <td>san marcos</td>\n",
       "      <td>tx</td>\n",
       "      <td>us</td>\n",
       "      <td>cylinder</td>\n",
       "      <td>2700.0</td>\n",
       "      <td>45 minutes</td>\n",
       "      <td>This event took place in early fall around 194...</td>\n",
       "      <td>2004-04-27</td>\n",
       "      <td>29.883056</td>\n",
       "      <td>-97.941111</td>\n",
       "    </tr>\n",
       "    <tr>\n",
       "      <th>1</th>\n",
       "      <td>1949-10-10 21:00:00</td>\n",
       "      <td>lackland afb</td>\n",
       "      <td>tx</td>\n",
       "      <td>NaN</td>\n",
       "      <td>light</td>\n",
       "      <td>7200.0</td>\n",
       "      <td>1-2 hrs</td>\n",
       "      <td>1949 Lackland AFB&amp;#44 TX.  Lights racing acros...</td>\n",
       "      <td>2005-12-16</td>\n",
       "      <td>29.384210</td>\n",
       "      <td>-98.581082</td>\n",
       "    </tr>\n",
       "    <tr>\n",
       "      <th>2</th>\n",
       "      <td>1955-10-10 17:00:00</td>\n",
       "      <td>chester (uk/england)</td>\n",
       "      <td>NaN</td>\n",
       "      <td>gb</td>\n",
       "      <td>circle</td>\n",
       "      <td>20.0</td>\n",
       "      <td>20 seconds</td>\n",
       "      <td>Green/Orange circular disc over Chester&amp;#44 En...</td>\n",
       "      <td>2008-01-21</td>\n",
       "      <td>53.200000</td>\n",
       "      <td>-2.916667</td>\n",
       "    </tr>\n",
       "    <tr>\n",
       "      <th>3</th>\n",
       "      <td>1956-10-10 21:00:00</td>\n",
       "      <td>edna</td>\n",
       "      <td>tx</td>\n",
       "      <td>us</td>\n",
       "      <td>circle</td>\n",
       "      <td>20.0</td>\n",
       "      <td>1/2 hour</td>\n",
       "      <td>My older brother and twin sister were leaving ...</td>\n",
       "      <td>2004-01-17</td>\n",
       "      <td>28.978333</td>\n",
       "      <td>-96.645833</td>\n",
       "    </tr>\n",
       "    <tr>\n",
       "      <th>4</th>\n",
       "      <td>1960-10-10 20:00:00</td>\n",
       "      <td>kaneohe</td>\n",
       "      <td>hi</td>\n",
       "      <td>us</td>\n",
       "      <td>light</td>\n",
       "      <td>900.0</td>\n",
       "      <td>15 minutes</td>\n",
       "      <td>AS a Marine 1st Lt. flying an FJ4B fighter/att...</td>\n",
       "      <td>2004-01-22</td>\n",
       "      <td>21.418056</td>\n",
       "      <td>-157.803611</td>\n",
       "    </tr>\n",
       "  </tbody>\n",
       "</table>\n",
       "</div>"
      ],
      "text/plain": [
       "                 date                  city state country     shape  \\\n",
       "0 1949-10-10 20:30:00            san marcos    tx      us  cylinder   \n",
       "1 1949-10-10 21:00:00          lackland afb    tx     NaN     light   \n",
       "2 1955-10-10 17:00:00  chester (uk/england)   NaN      gb    circle   \n",
       "3 1956-10-10 21:00:00                  edna    tx      us    circle   \n",
       "4 1960-10-10 20:00:00               kaneohe    hi      us     light   \n",
       "\n",
       "   duration_seconds    duration  \\\n",
       "0            2700.0  45 minutes   \n",
       "1            7200.0     1-2 hrs   \n",
       "2              20.0  20 seconds   \n",
       "3              20.0    1/2 hour   \n",
       "4             900.0  15 minutes   \n",
       "\n",
       "                                             comment report_date   latitude  \\\n",
       "0  This event took place in early fall around 194...  2004-04-27  29.883056   \n",
       "1  1949 Lackland AFB&#44 TX.  Lights racing acros...  2005-12-16  29.384210   \n",
       "2  Green/Orange circular disc over Chester&#44 En...  2008-01-21  53.200000   \n",
       "3  My older brother and twin sister were leaving ...  2004-01-17  28.978333   \n",
       "4  AS a Marine 1st Lt. flying an FJ4B fighter/att...  2004-01-22  21.418056   \n",
       "\n",
       "    longitude  \n",
       "0  -97.941111  \n",
       "1  -98.581082  \n",
       "2   -2.916667  \n",
       "3  -96.645833  \n",
       "4 -157.803611  "
      ]
     },
     "execution_count": 100,
     "metadata": {},
     "output_type": "execute_result"
    }
   ],
   "source": [
    "ufos.head()"
   ]
  },
  {
   "cell_type": "markdown",
   "metadata": {},
   "source": [
    "We binned our data, *but* if we want to make another plot with data in another axis of our original set (distribution of durations)."
   ]
  },
  {
   "cell_type": "code",
   "execution_count": 103,
   "metadata": {},
   "outputs": [],
   "source": [
    "i, j = 19, 0 # I know this has lots of data!"
   ]
  },
  {
   "cell_type": "code",
   "execution_count": 106,
   "metadata": {},
   "outputs": [],
   "source": [
    "region_mask = ( (ufos['latitude'] >= lat_edges[j]) & (ufos['latitude'] <= lat_edges[j+1]) & \\\n",
    "              (ufos['longitude'] >= long_edges[i]) & (ufos['longitude'] <= long_edges[i+1]))"
   ]
  },
  {
   "cell_type": "code",
   "execution_count": 107,
   "metadata": {},
   "outputs": [
    {
     "data": {
      "text/plain": [
       "112     -34.928661\n",
       "682     -37.653829\n",
       "855     -34.928661\n",
       "998     -37.813938\n",
       "1850    -37.966667\n",
       "           ...    \n",
       "76956   -37.883333\n",
       "78037   -34.928661\n",
       "78381   -38.382766\n",
       "78598   -35.276030\n",
       "80217   -37.813938\n",
       "Name: latitude, Length: 211, dtype: float64"
      ]
     },
     "execution_count": 107,
     "metadata": {},
     "output_type": "execute_result"
    }
   ],
   "source": [
    "ufos['latitude'][region_mask]"
   ]
  },
  {
   "cell_type": "code",
   "execution_count": 108,
   "metadata": {},
   "outputs": [
    {
     "data": {
      "text/plain": [
       "(-40.0, -34.5)"
      ]
     },
     "execution_count": 108,
     "metadata": {},
     "output_type": "execute_result"
    }
   ],
   "source": [
    "lat_edges[j], lat_edges[j+1]"
   ]
  },
  {
   "cell_type": "code",
   "execution_count": 111,
   "metadata": {},
   "outputs": [
    {
     "data": {
      "text/plain": [
       "array([6.00e+02, 4.00e+01, 3.00e+02, 9.00e+02, 6.00e+02, 1.50e+03,\n",
       "       1.20e+02, 5.00e+00, 9.00e+02, 3.00e+01, 1.80e+02, 3.60e+02,\n",
       "       6.00e+02, 1.20e+02, 6.00e+01, 1.50e+01, 6.00e+02, 1.00e+01,\n",
       "       3.00e+02, 3.00e+01, 6.00e+01, 7.00e+00, 3.20e+01, 3.00e+01,\n",
       "       1.20e+03, 6.00e+02, 2.70e+03, 6.00e+01, 3.00e+00, 6.00e+01,\n",
       "       6.00e+01, 1.80e+03, 2.40e+02, 3.60e+03, 9.00e+02, 5.00e+00,\n",
       "       3.60e+03, 1.50e+01, 6.00e+02, 6.00e+01, 6.00e+01, 6.00e+02,\n",
       "       2.40e+02, 3.00e+02, 3.00e+02, 6.00e+02, 3.00e+02, 6.00e+02,\n",
       "       7.20e+03, 1.80e+02, 6.00e+01, 6.00e+01, 9.00e+02, 3.00e+02,\n",
       "       1.80e+02, 2.70e+03, 3.00e+02, 1.00e+00, 6.00e+02, 3.00e+01,\n",
       "       3.60e+03, 6.00e+01, 1.80e+02, 5.00e+00, 6.00e+01, 3.00e+01,\n",
       "       1.20e+02, 1.00e+01, 1.50e+01, 5.00e-01, 3.00e+02, 4.80e+02,\n",
       "       9.00e+01, 1.80e+02, 1.20e+02, 1.20e+03, 3.00e+02, 6.00e+02,\n",
       "       7.20e+02, 1.00e+01, 3.00e+02, 2.40e+03, 6.00e+02, 6.00e+02,\n",
       "       4.20e+02, 9.00e+02, 1.08e+04, 1.80e+02, 2.00e+01, 1.00e+00,\n",
       "       1.20e+02, 5.00e+00, 1.20e+03, 3.60e+02, 1.80e+02, 1.50e+00,\n",
       "       9.00e+02, 4.80e+02, 1.00e+01, 1.80e+03, 6.00e+02, 1.80e+02,\n",
       "       2.40e+02, 6.00e+02, 1.50e+01, 3.00e+02, 3.00e+02, 3.00e+02,\n",
       "       1.20e+02, 7.20e+03, 1.80e+02, 1.50e+01, 5.00e+00, 6.00e+01,\n",
       "       1.00e+01, 1.80e+02, 1.00e+01, 3.00e+02, 2.40e+02, 6.00e+02,\n",
       "       4.80e+02, 2.00e+01, 3.00e+02, 3.00e+01, 9.00e+02, 2.00e+00,\n",
       "       2.40e+02, 6.00e+01, 1.80e+02, 3.00e+01, 7.20e+02, 3.00e+02,\n",
       "       6.00e+00, 6.00e+02, 3.00e+02, 6.00e+01, 3.00e+02, 9.00e+02,\n",
       "       5.00e+00, 1.20e+02, 5.00e+00, 3.00e+02, 6.00e+01, 6.00e+02,\n",
       "       1.00e+01, 6.00e+02, 4.00e+00, 1.20e+02, 6.00e+02, 3.00e+00,\n",
       "       1.08e+04, 3.00e+01, 2.40e+03, 3.60e+02, 2.40e+03, 1.80e+02,\n",
       "       6.00e+01, 9.00e+02, 6.00e+01, 1.20e+02, 1.80e+02, 1.20e+02,\n",
       "       1.80e+04, 3.00e+00, 5.00e+00, 1.80e+03, 6.00e+02, 1.00e+01,\n",
       "       1.20e+02, 3.00e+02, 1.20e+02, 1.20e+02, 6.00e+01, 5.00e+01,\n",
       "       1.80e+02, 6.00e+02, 8.00e+00, 1.80e+02, 3.00e+01, 6.00e+02,\n",
       "       2.00e+00, 1.80e+02, 2.40e+02, 9.00e+02, 1.80e+03, 1.00e+01,\n",
       "       6.00e+02, 1.00e+01, 3.00e+01, 2.40e+02, 5.00e+00, 3.00e+02,\n",
       "       1.20e+02, 2.00e+01, 1.20e+03, 1.20e+02, 1.00e+01, 5.00e+00,\n",
       "       2.70e+03, 3.00e+02, 1.20e+02, 5.00e+00, 5.00e+00, 3.00e+02,\n",
       "       3.50e+01, 5.00e+00, 1.80e+03, 1.80e+02, 5.00e-02, 6.00e+01,\n",
       "       6.00e+02])"
      ]
     },
     "execution_count": 111,
     "metadata": {},
     "output_type": "execute_result"
    }
   ],
   "source": [
    "# example: I want to make a histogram of the duration_seconds in this particular bin\n",
    "# hist.sample = ufos['duration_seconds'][region_mask].values\n",
    "\n",
    "ufos['duration_seconds'][region_mask].values"
   ]
  },
  {
   "cell_type": "code",
   "execution_count": 123,
   "metadata": {},
   "outputs": [],
   "source": [
    "# few possibly useful things for this dataset!\n",
    "# ... shoulda come to class ;)"
   ]
  },
  {
   "cell_type": "code",
   "execution_count": 114,
   "metadata": {},
   "outputs": [],
   "source": []
  },
  {
   "cell_type": "code",
   "execution_count": 115,
   "metadata": {},
   "outputs": [],
   "source": []
  },
  {
   "cell_type": "code",
   "execution_count": null,
   "metadata": {},
   "outputs": [],
   "source": []
  },
  {
   "cell_type": "code",
   "execution_count": null,
   "metadata": {},
   "outputs": [],
   "source": []
  },
  {
   "cell_type": "code",
   "execution_count": null,
   "metadata": {},
   "outputs": [],
   "source": []
  }
 ],
 "metadata": {
  "kernelspec": {
   "display_name": "Python 3",
   "language": "python",
   "name": "python3"
  },
  "language_info": {
   "codemirror_mode": {
    "name": "ipython",
    "version": 3
   },
   "file_extension": ".py",
   "mimetype": "text/x-python",
   "name": "python",
   "nbconvert_exporter": "python",
   "pygments_lexer": "ipython3",
   "version": "3.7.8"
  }
 },
 "nbformat": 4,
 "nbformat_minor": 4
}
